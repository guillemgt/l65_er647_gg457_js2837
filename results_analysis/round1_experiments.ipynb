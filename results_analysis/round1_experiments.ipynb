{
 "cells": [
  {
   "cell_type": "code",
   "execution_count": 21,
   "metadata": {},
   "outputs": [],
   "source": [
    "import wandb \n",
    "import pandas as pd\n",
    "import matplotlib.pyplot as plt\n",
    "import seaborn as sns"
   ]
  },
  {
   "cell_type": "code",
   "execution_count": 5,
   "metadata": {},
   "outputs": [],
   "source": [
    "entity = 'l65'"
   ]
  },
  {
   "cell_type": "code",
   "execution_count": 2,
   "metadata": {},
   "outputs": [
    {
     "name": "stderr",
     "output_type": "stream",
     "text": [
      "Failed to detect the name of this notebook, you can set it manually with the WANDB_NOTEBOOK_NAME environment variable to enable code saving.\n",
      "\u001b[34m\u001b[1mwandb\u001b[0m: Currently logged in as: \u001b[33mevangeorgerex\u001b[0m (\u001b[33ml65\u001b[0m). Use \u001b[1m`wandb login --relogin`\u001b[0m to force relogin\n"
     ]
    },
    {
     "data": {
      "text/html": [
       "wandb version 0.16.4 is available!  To upgrade, please run:\n",
       " $ pip install wandb --upgrade"
      ],
      "text/plain": [
       "<IPython.core.display.HTML object>"
      ]
     },
     "metadata": {},
     "output_type": "display_data"
    },
    {
     "data": {
      "text/html": [
       "Tracking run with wandb version 0.16.1"
      ],
      "text/plain": [
       "<IPython.core.display.HTML object>"
      ]
     },
     "metadata": {},
     "output_type": "display_data"
    },
    {
     "data": {
      "text/html": [
       "Run data is saved locally in <code>/home/er647/projects/l65_er647_gg457_js2837/results_analysis/wandb/run-20240312_182347-d43419p2</code>"
      ],
      "text/plain": [
       "<IPython.core.display.HTML object>"
      ]
     },
     "metadata": {},
     "output_type": "display_data"
    },
    {
     "data": {
      "text/html": [
       "Syncing run <strong><a href='https://wandb.ai/l65/l65_er647_gg457_js2837-results_analysis/runs/d43419p2' target=\"_blank\">eager-glade-1</a></strong> to <a href='https://wandb.ai/l65/l65_er647_gg457_js2837-results_analysis' target=\"_blank\">Weights & Biases</a> (<a href='https://wandb.me/run' target=\"_blank\">docs</a>)<br/>"
      ],
      "text/plain": [
       "<IPython.core.display.HTML object>"
      ]
     },
     "metadata": {},
     "output_type": "display_data"
    },
    {
     "data": {
      "text/html": [
       " View project at <a href='https://wandb.ai/l65/l65_er647_gg457_js2837-results_analysis' target=\"_blank\">https://wandb.ai/l65/l65_er647_gg457_js2837-results_analysis</a>"
      ],
      "text/plain": [
       "<IPython.core.display.HTML object>"
      ]
     },
     "metadata": {},
     "output_type": "display_data"
    },
    {
     "data": {
      "text/html": [
       " View run at <a href='https://wandb.ai/l65/l65_er647_gg457_js2837-results_analysis/runs/d43419p2' target=\"_blank\">https://wandb.ai/l65/l65_er647_gg457_js2837-results_analysis/runs/d43419p2</a>"
      ],
      "text/plain": [
       "<IPython.core.display.HTML object>"
      ]
     },
     "metadata": {},
     "output_type": "display_data"
    },
    {
     "data": {
      "text/html": [
       "<button onClick=\"this.nextSibling.style.display='block';this.style.display='none';\">Display W&B run</button><iframe src='https://wandb.ai/l65/l65_er647_gg457_js2837-results_analysis/runs/d43419p2?jupyter=true' style='border:none;width:100%;height:420px;display:none;'></iframe>"
      ],
      "text/plain": [
       "<wandb.sdk.wandb_run.Run at 0x7facfafceb00>"
      ]
     },
     "execution_count": 2,
     "metadata": {},
     "output_type": "execute_result"
    }
   ],
   "source": [
    "wandb.init(entity=entity)"
   ]
  },
  {
   "cell_type": "code",
   "execution_count": 8,
   "metadata": {},
   "outputs": [
    {
     "name": "stdout",
     "output_type": "stream",
     "text": [
      "Run ID: f2q9cg84, Project: Multi_pe1u_Experiments_round_1, Metrics: {'best/epoch': 99, 'val/params': 373018, 'best/val_loss': 0.48419573, 'best_test_perf': 0.62469, 'train/accuracy': 0.16463, 'val/ap': 0.62174, '_runtime': 2631.7191219329834, 'test/auc': 0.87616, 'train/loss': 0.0027174, 'test/accuracy': 0.16465, 'best/test_loss': 0.5253741, 'train/time_iter': 0.13456, 'train/time_epoch': 11.43744, 'train/ap': 0.99934, 'train/params': 373018, 'val/accuracy': 0.16482, 'best/train_ap': 0.99558, 'test/time_iter': 0.04159, 'test/time_epoch': 0.79016, 'train/eta_hours': 0, 'full_epoch_time_sum': 2629.105366755277, 'train/eta': 0, '_timestamp': 1710248179.521138, 'best_train_perf': 0.99558, 'val/loss': 0.55110344, '_step': 199, '_wandb': {'runtime': 2631}, 'test/lr': 0, 'val/auc': 0.8737, 'val/epoch': 199, 'train/epoch': 199, 'best_val_perf': 0.63101, 'best/train_loss': 0.01156345, 'val/lr': 0, 'test/ap': 0.62369, 'test/loss': 0.60223569, 'train/auc': 0.99998, 'test/epoch': 199, 'test/params': 373018, 'best/test_ap': 0.62469, 'train/lr': 7e-08, 'best/val_ap': 0.63101, 'val/time_iter': 0.0411, 'val/time_epoch': 0.7809, 'full_epoch_time_avg': 13.145526833776383}\n",
      "Run ID: 70u7i2uo, Project: Multi_pe1u_Experiments_round_1, Metrics: {'_step': 199, 'val/ap': 0.60441, 'val/lr': 0, 'test/params': 373018, 'best_val_perf': 0.61518, 'best/test_loss': 0.2493782, 'train/accuracy': 0.16463, '_runtime': 2651.4428057670593, 'train/lr': 7e-08, 'val/epoch': 199, 'val/params': 373018, 'test/accuracy': 0.16465, 'test/time_iter': 0.04192, 'best/train_loss': 0.14525272, '_wandb': {'runtime': 2650}, 'test/epoch': 199, 'best/test_ap': 0.58379, 'val/time_epoch': 0.78777, 'test/time_epoch': 0.79645, 'train/ap': 0.99925, 'train/auc': 0.99998, 'best/val_ap': 0.61518, 'train/epoch': 199, 'val/time_iter': 0.04146, 'full_epoch_time_sum': 2648.7228721654974, 'val/loss': 0.60336575, 'test/loss': 0.64503214, 'train/loss': 0.0027652, 'train/params': 373018, 'best/val_loss': 0.22953617, 'train/eta_hours': 0, 'test/lr': 0, 'test/auc': 0.85736, '_timestamp': 1710246397.053053, 'best_test_perf': 0.58379, 'train/time_epoch': 11.59744, 'val/auc': 0.85896, 'best/epoch': 28, 'val/accuracy': 0.16482, 'test/ap': 0.59941, 'train/eta': 0, 'best/train_ap': 0.75094, 'best_train_perf': 0.75094, 'train/time_iter': 0.13644, 'full_epoch_time_avg': 13.243614360827486}\n",
      "Run ID: nlfyi7pz, Project: Multi_pe1u_Experiments_round_1, Metrics: {'train/ap': 0.99914, 'best/val_loss': 0.39691927, 'val/ap': 0.62215, 'val/auc': 0.87466, '_runtime': 2633.4584863185883, 'test/loss': 0.61978942, '_timestamp': 1710245480.6478512, 'test/epoch': 199, 'best/train_ap': 0.98751, 'test/accuracy': 0.16469, 'val/lr': 0, 'test/time_iter': 0.04171, 'test/params': 373018, 'val/accuracy': 0.16482, 'best_train_perf': 0.98751, 'train/time_epoch': 11.42675, 'full_epoch_time_sum': 2630.7600025609136, 'val/params': 373018, 'train/auc': 0.99998, 'val/epoch': 199, 'train/epoch': 199, 'best_test_perf': 0.62456, 'best/train_loss': 0.02085315, 'train/eta_hours': 0, 'full_epoch_time_avg': 13.153800012804568, '_wandb': {'runtime': 2632}, 'test/lr': 0, 'test/auc': 0.87223, 'train/params': 373018, 'best_val_perf': 0.63635, 'train/accuracy': 0.16463, 'test/ap': 0.62424, 'train/loss': 0.00264876, 'best/val_ap': 0.63635, 'best/test_ap': 0.62456, 'val/time_epoch': 0.7847, '_step': 199, 'train/eta': 0, 'train/time_iter': 0.13443, 'train/lr': 7e-08, 'best/epoch': 79, 'val/time_iter': 0.0413, 'best/test_loss': 0.43772255, 'test/time_epoch': 0.79247, 'val/loss': 0.57674619}\n",
      "Run ID: b6za4132, Project: Mamba_Baseline_Experiments_round_1, Metrics: {'train/lr': 7e-08, 'train/auc': 0.99944, 'val/epoch': 199, 'best/epoch': 59, 'best/val_ap': 0.67239, 'test/params': 373018, 'val/time_iter': 0.03682, 'val/lr': 0, 'test/lr': 0, '_runtime': 950.191401720047, 'train/eta_hours': 0, 'test/accuracy': 0.16465, 'test/time_iter': 0.03676, 'best_train_perf': 0.82172, 'train/loss': 0.01711162, 'train/epoch': 199, 'best/test_ap': 0.66067, 'best/train_ap': 0.82172, 'best_val_perf': 0.67239, 'train/time_iter': 0.03855, '_timestamp': 1710240118.1150937, 'val/params': 373018, 'best/test_loss': 0.22349667, 'best_test_perf': 0.66067, 'full_epoch_time_avg': 4.735167422925024, '_step': 199, 'test/auc': 0.90338, 'train/accuracy': 0.16463, 'val/time_epoch': 0.69967, 'best/val_loss': 0.21483828, 'best/train_loss': 0.12192951, 'test/time_epoch': 0.6984, '_wandb': {'runtime': 949}, 'test/ap': 0.68744, 'val/loss': 0.39562739, 'test/loss': 0.39111522, 'val/accuracy': 0.16482, 'train/time_epoch': 3.27671, 'full_epoch_time_sum': 947.0334845850048, 'train/params': 373018, 'val/ap': 0.66196, 'val/auc': 0.89544, 'train/ap': 0.99371, 'train/eta': 0, 'test/epoch': 199}\n",
      "Run ID: btob875t, Project: Mamba_Baseline_Experiments_round_1, Metrics: {'test/auc': 0.90167, '_timestamp': 1710232145.6763997, 'best/val_loss': 0.3613402, 'val/time_epoch': 0.7581, 'train/eta_hours': 0, 'val/loss': 0.39609121, 'val/epoch': 199, 'best/epoch': 141, 'best/test_loss': 0.36384715, 'train/time_iter': 0.04151, 'full_epoch_time_avg': 5.135286619940307, 'best/val_ap': 0.68155, 'test/params': 373018, 'best_val_perf': 0.68155, 'val/time_iter': 0.0399, 'train/time_epoch': 3.52829, '_wandb': {'runtime': 1029}, '_runtime': 1029.830130815506, 'train/auc': 0.99962, 'val/params': 373018, 'best/test_ap': 0.69089, 'train/epoch': 199, 'test/accuracy': 0.16465, 'test/time_iter': 0.03992, 'test/ap': 0.69107, 'test/lr': 0, 'val/auc': 0.90186, 'train/lr': 7e-08, 'train/loss': 0.01405036, 'best/train_loss': 0.02284786, 'val/ap': 0.67453, 'train/accuracy': 0.16463, 'best_train_perf': 0.98625, 'full_epoch_time_sum': 1027.0573239880614, '_step': 199, 'val/lr': 0, 'train/ap': 0.99507, 'test/loss': 0.40124329, 'train/params': 373018, 'test/time_epoch': 0.75839, 'train/eta': 0, 'test/epoch': 199, 'val/accuracy': 0.16482, 'best/train_ap': 0.98625, 'best_test_perf': 0.69089}\n",
      "Run ID: gq8taxfk, Project: Mamba_Baseline_Experiments_round_1, Metrics: {'val/auc': 0.90541, 'train/ap': 0.99215, 'train/loss': 0.01860437, 'val/params': 373018, 'train/epoch': 199, 'train/accuracy': 0.16463, 'val/lr': 0, 'test/ap': 0.6745, 'val/time_epoch': 0.75664, 'test/params': 373018, 'best/train_loss': 0.0588958, 'train/time_iter': 0.04359, 'train/auc': 0.99934, 'train/eta': 0, 'train/params': 373018, 'val/accuracy': 0.16482, 'full_epoch_time_avg': 5.133114282160531, 'val/epoch': 199, '_timestamp': 1710230909.858691, 'best/test_loss': 0.3070864, 'best_test_perf': 0.66405, 'best_train_perf': 0.93465, 'full_epoch_time_sum': 1026.6228564321063, '_step': 199, 'val/time_iter': 0.03982, 'best/val_loss': 0.28307526, 'test/accuracy': 0.16465, 'test/time_iter': 0.03995, '_runtime': 1029.8028779029846, 'val/loss': 0.34916619, 'best_val_perf': 0.68138, 'test/auc': 0.89883, 'train/lr': 7e-08, 'test/epoch': 199, 'train/eta_hours': 0, 'val/ap': 0.67678, 'best/epoch': 100, 'test/loss': 0.38220196, 'best/val_ap': 0.68138, 'best/test_ap': 0.66405, 'best/train_ap': 0.93465, 'test/time_epoch': 0.75898, 'train/time_epoch': 3.70535, '_wandb': {'runtime': 1029}, 'test/lr': 0}\n",
      "Run ID: xus9ij4d, Project: graphssm_experiments_round_1, Metrics: {'train/lr': 7e-08, 'best/epoch': 119, 'test/epoch': 199, 'test/params': 373882, 'train/epoch': 199, '_wandb': {'runtime': 1186}, 'train/ap': 0.99938, 'val/time_iter': 0.02643, 'test/time_iter': 0.02685, 'val/lr': 0, 'test/auc': 0.88493, 'val/time_epoch': 0.50212, 'train/eta_hours': 0, 'train/time_iter': 0.05909, 'val/ap': 0.63848, 'best/val_ap': 0.64489, 'train/auc': 0.99998, '_timestamp': 1710216672.5290048, 'train/params': 373882, 'test/accuracy': 0.16465, 'test/ap': 0.65429, 'test/lr': 0, 'train/loss': 0.00291939, 'best_test_perf': 0.64772, 'full_epoch_time_sum': 1183.7876457991078, 'test/loss': 0.55303388, 'val/epoch': 199, 'train/eta': 0, 'val/params': 373882, 'val/accuracy': 0.16482, '_step': 199, '_runtime': 1186.78692984581, 'best_val_perf': 0.64489, 'train/accuracy': 0.16463, 'best/train_loss': 0.00830783, 'test/time_epoch': 0.51012, 'full_epoch_time_avg': 5.91893822899554, 'val/auc': 0.87881, 'best/test_ap': 0.64772, 'best/val_loss': 0.48143006, 'best/test_loss': 0.50503266, 'best_train_perf': 0.99723, 'train/time_epoch': 5.02244, 'val/loss': 0.53736075, 'best/train_ap': 0.99723}\n",
      "Run ID: maoecobx, Project: graphssm_experiments_round_1, Metrics: {'train/loss': 0.00291375, 'train/params': 373882, 'train/accuracy': 0.16463, 'best_train_perf': 0.96749, 'train/eta_hours': 0, 'test/auc': 0.876, 'best_test_perf': 0.64139, 'best/train_loss': 0.039685, 'val/accuracy': 0.16482, 'best_val_perf': 0.64333, 'val/time_iter': 0.02647, 'test/time_iter': 0.02662, 'train/time_epoch': 4.99329, 'val/auc': 0.87751, 'train/auc': 0.99998, 'best/val_ap': 0.64333, 'test/loss': 0.54475331, 'best/epoch': 64, 'test/epoch': 199, 'val/params': 373882, 'test/params': 373882, 'test/lr': 0, '_runtime': 1192.0722482204435, 'train/ap': 0.99926, 'best/val_loss': 0.3481456, 'best/test_loss': 0.34944802, '_step': 199, 'test/ap': 0.6492, 'val/time_epoch': 0.50287, 'test/time_epoch': 0.50573, 'full_epoch_time_avg': 5.945305506354198, 'full_epoch_time_sum': 1189.0611012708396, 'train/eta': 0, '_timestamp': 1710216677.797655, 'best/train_ap': 0.96749, 'val/lr': 0, 'best/test_ap': 0.64139, 'test/accuracy': 0.16465, 'val/loss': 0.54173958, 'val/epoch': 199, 'train/epoch': 199, 'train/time_iter': 0.05874, '_wandb': {'runtime': 1191}, 'val/ap': 0.6361, 'train/lr': 7e-08}\n",
      "Run ID: g2gjls5f, Project: graphssm_experiments_round_1, Metrics: {'full_epoch_time_avg': 5.813596216817387, 'full_epoch_time_sum': 1162.7192433634773, '_step': 199, 'train/eta': 0, 'val/epoch': 199, 'best_val_perf': 0.63987, 'test/time_iter': 0.02591, '_runtime': 1165.9317634105682, 'val/params': 373882, 'val/time_epoch': 0.48917, 'train/epoch': 199, 'best/train_ap': 0.99808, 'best/val_loss': 0.50303805, 'best/test_loss': 0.50870043, 'best_test_perf': 0.63887, 'val/loss': 0.5465372, 'test/epoch': 199, 'best/test_ap': 0.63887, 'val/time_iter': 0.02575, 'train/auc': 0.99997, '_timestamp': 1710215238.5689144, 'test/accuracy': 0.16465, 'best_train_perf': 0.99808, 'test/time_epoch': 0.49232, 'train/time_epoch': 4.71124, '_wandb': {'runtime': 1165}, 'val/lr': 0, 'test/ap': 0.63671, 'test/auc': 0.88291, 'test/params': 373882, 'train/eta_hours': 0, 'train/time_iter': 0.05543, 'val/ap': 0.63158, 'train/ap': 0.99923, 'train/lr': 7e-08, 'train/accuracy': 0.16463, 'best/train_loss': 0.00668776, 'best/val_ap': 0.63987, 'train/params': 373882, 'val/accuracy': 0.16482, 'test/lr': 0, 'val/auc': 0.8774, 'test/loss': 0.55333061, 'best/epoch': 128, 'train/loss': 0.00293673}\n",
      "Run ID: s123ybnp, Project: graphssm_experiments_round_1, Metrics: {'_wandb': {'runtime': 6}}\n",
      "Run ID: jwb7sjw1, Project: graphssm_experiments_round_1, Metrics: {'val/time_epoch': 1.7641, 'full_epoch_time_avg': 36.42818960684119, 'test/ap': 0.6352, 'test/lr': 0, 'test/auc': 0.87947, 'train/lr': 7e-08, 'best/test_ap': 0.63756, 'train/params': 373882, 'train/time_epoch': 26.60897, 'train/ap': 0.99917, 'val/epoch': 199, 'test/epoch': 199, 'test/time_iter': 0.08868, 'train/accuracy': 0.16463, 'best/train_loss': 0.00415906, '_wandb': {'runtime': 7291}, 'val/loss': 0.52550625, 'train/loss': 0.00299077, 'best/train_ap': 0.99871, 'val/time_iter': 0.09285, '_step': 199, '_runtime': 7292.344203233719, 'best/epoch': 161, 'train/epoch': 199, 'train/time_iter': 0.31305, 'full_epoch_time_sum': 7285.637921368238, 'val/ap': 0.64116, 'train/eta': 0, 'best_val_perf': 0.64777, 'test/accuracy': 0.16465, 'test/time_epoch': 1.68487, 'train/eta_hours': 0, 'val/auc': 0.87732, 'test/loss': 0.56160935, 'best/val_ap': 0.64777, 'val/accuracy': 0.16482, 'best_test_perf': 0.63756, 'best_train_perf': 0.99871, 'val/lr': 0, 'train/auc': 0.99997, 'val/params': 373882, 'test/params': 373882, '_timestamp': 1710180828.6865551, 'best/val_loss': 0.51725654, 'best/test_loss': 0.55710923}\n",
      "Run ID: dehdo9ol, Project: graphssm_experiments_round_1, Metrics: {'best_val_perf': 0.64339, 'test/ap': 0.63412, 'test/auc': 0.88113, 'best/epoch': 90, 'test/params': 373882, 'best/val_ap': 0.64339, 'test/accuracy': 0.16465, 'test/time_epoch': 2.74882, 'val/lr': 0, 'train/ap': 0.99926, 'train/lr': 7e-08, 'train/loss': 0.00298883, 'best/test_ap': 0.63545, 'train/params': 373882, 'best_test_perf': 0.63545, 'train/eta_hours': 0, 'train/epoch': 199, 'test/time_iter': 0.14467, 'train/time_iter': 0.33626, 'train/accuracy': 0.16463, 'best_train_perf': 0.9917, '_wandb': {'runtime': 7283}, 'val/loss': 0.5423348, '_timestamp': 1710180820.6552646, 'best/test_loss': 0.47830569, 'train/eta': 0, 'val/params': 373882, 'best/train_loss': 0.01607537, '_step': 199, 'val/ap': 0.63108, 'test/loss': 0.58636585, 'train/auc': 0.99998, 'best/val_loss': 0.4412546, 'val/time_iter': 0.12754, 'val/time_epoch': 2.42332, 'full_epoch_time_avg': 36.38580120287137, 'test/lr': 0, 'val/auc': 0.89096, '_runtime': 7284.139490604401, 'val/epoch': 199, 'full_epoch_time_sum': 7277.160240574274, 'test/epoch': 199, 'val/accuracy': 0.16482, 'best/train_ap': 0.9917, 'train/time_epoch': 28.58192}\n"
     ]
    }
   ],
   "source": [
    "# Assuming you have an API key set up, either through the environment variable or login\n",
    "api = wandb.Api()\n",
    "\n",
    "# Specify the projects to search\n",
    "projects = [\n",
    "    # 'Mamba_pe1b_Experiments_round_1', \n",
    "    'Multi_pe1u_Experiments_round_1',\n",
    "    'Mamba_Baseline_Experiments_round_1',\n",
    "    'graphssm_experiments_round_1',\n",
    "    ]\n",
    "\n",
    "PASCAL_VOC = 'edge_wt_region_boundary'\n",
    "PEPTIDES_FUNC = 'peptides-functional'\n",
    "PEPTIDES_STRUCT = 'peptides-structural'\n",
    "\n",
    "dataset = PEPTIDES_FUNC\n",
    "\n",
    "filtered_runs = []\n",
    "\n",
    "for project in projects:\n",
    "    runs = api.runs(f\"{entity}/{project}\")\n",
    "    for run in runs:\n",
    "        if 'dataset' in run.config and 'name' in run.config['dataset']:\n",
    "            if run.config['dataset']['name'] == dataset:\n",
    "                filtered_runs.append(run)\n",
    "\n",
    "# Now `filtered_runs` contains all runs across specified projects tagged with 'dataset_x'\n",
    "# You can iterate over `filtered_runs` to compare them or further analyze the data\n",
    "for run in filtered_runs:\n",
    "    print(f\"Run ID: {run.id}, Project: {run.project}, Metrics: {run.summary}\")\n"
   ]
  },
  {
   "cell_type": "code",
   "execution_count": 22,
   "metadata": {},
   "outputs": [],
   "source": [
    "# Container for aggregated run data\n",
    "run_data = []\n",
    "\n",
    "for run in filtered_runs:\n",
    "    # Fetch history for each run; adjust `keys` based on what you need (e.g., \"val/f1\")\n",
    "    history = run.history()\n",
    "    history['approach'] = run.project\n",
    "    history['dataset'] = dataset\n",
    "    history['step'] = history.index\n",
    "    run_data.append(history)\n",
    "    \n",
    "df = pd.concat(run_data)\n"
   ]
  },
  {
   "cell_type": "code",
   "execution_count": 24,
   "metadata": {},
   "outputs": [
    {
     "data": {
      "text/plain": [
       "Index(['best/test_loss', 'train/time_iter', 'val/time_epoch', 'val/lr',\n",
       "       'train/ap', 'val/params', 'train/lr', '_timestamp', 'train/auc',\n",
       "       'val/time_iter', 'train/eta_hours', 'train/time_epoch', 'best/test_ap',\n",
       "       'val/ap', 'test/epoch', '_step', 'train/eta', 'train/params',\n",
       "       'best/val_ap', 'best/val_loss', 'test/time_iter', 'val/epoch',\n",
       "       'train/accuracy', 'test/time_epoch', 'train/epoch', 'best/train_ap',\n",
       "       'val/auc', 'test/ap', 'val/loss', 'best/epoch', 'test/accuracy',\n",
       "       'test/auc', 'test/loss', 'test/lr', 'train/loss', '_runtime',\n",
       "       'val/accuracy', 'test/params', 'best/train_loss', 'approach', 'dataset',\n",
       "       'step'],\n",
       "      dtype='object')"
      ]
     },
     "execution_count": 24,
     "metadata": {},
     "output_type": "execute_result"
    }
   ],
   "source": [
    "df.columns"
   ]
  },
  {
   "cell_type": "code",
   "execution_count": 26,
   "metadata": {},
   "outputs": [
    {
     "name": "stderr",
     "output_type": "stream",
     "text": [
      "/home/er647/.conda/envs/L65/lib/python3.10/site-packages/seaborn/_base.py:948: FutureWarning: When grouping with a length-1 list-like, you will need to pass a length-1 tuple to get_group in a future version of pandas. Pass `(name,)` instead of `name` to silence this warning.\n",
      "  data_subset = grouped_data.get_group(pd_key)\n",
      "/home/er647/.conda/envs/L65/lib/python3.10/site-packages/seaborn/_base.py:948: FutureWarning: When grouping with a length-1 list-like, you will need to pass a length-1 tuple to get_group in a future version of pandas. Pass `(name,)` instead of `name` to silence this warning.\n",
      "  data_subset = grouped_data.get_group(pd_key)\n",
      "/home/er647/.conda/envs/L65/lib/python3.10/site-packages/seaborn/_base.py:948: FutureWarning: When grouping with a length-1 list-like, you will need to pass a length-1 tuple to get_group in a future version of pandas. Pass `(name,)` instead of `name` to silence this warning.\n",
      "  data_subset = grouped_data.get_group(pd_key)\n"
     ]
    },
    {
     "data": {
      "image/png": "[encoded data removed]",
      "text/plain": [
       "<Figure size 640x480 with 1 Axes>"
      ]
     },
     "metadata": {},
     "output_type": "display_data"
    }
   ],
   "source": [
    "# Assuming 'df' is your pandas DataFrame\n",
    "y_axis_key = 'val/auc'\n",
    "\n",
    "sns.lineplot(data=df, x='step', y=y_axis_key, hue='approach')\n",
    "\n",
    "plt.xlabel('Step')\n",
    "plt.ylabel(y_axis_key)\n",
    "plt.title(f'{y_axis_key} by Step, Grouped by Approach')\n",
    "plt.legend(title='Approach')\n",
    "plt.show()"
   ]
  },
  {
   "cell_type": "code",
   "execution_count": 14,
   "metadata": {},
   "outputs": [],
   "source": [
    "run=filtered_runs[0]"
   ]
  },
  {
   "cell_type": "code",
   "execution_count": 17,
   "metadata": {},
   "outputs": [
    {
     "data": {
      "text/html": [
       "<div>\n",
       "<style scoped>\n",
       "    .dataframe tbody tr th:only-of-type {\n",
       "        vertical-align: middle;\n",
       "    }\n",
       "\n",
       "    .dataframe tbody tr th {\n",
       "        vertical-align: top;\n",
       "    }\n",
       "\n",
       "    .dataframe thead th {\n",
       "        text-align: right;\n",
       "    }\n",
       "</style>\n",
       "<table border=\"1\" class=\"dataframe\">\n",
       "  <thead>\n",
       "    <tr style=\"text-align: right;\">\n",
       "      <th></th>\n",
       "      <th>best/test_loss</th>\n",
       "      <th>train/time_iter</th>\n",
       "      <th>val/time_epoch</th>\n",
       "      <th>val/lr</th>\n",
       "      <th>train/ap</th>\n",
       "      <th>val/params</th>\n",
       "      <th>train/lr</th>\n",
       "      <th>_timestamp</th>\n",
       "      <th>train/auc</th>\n",
       "      <th>val/time_iter</th>\n",
       "      <th>...</th>\n",
       "      <th>best/epoch</th>\n",
       "      <th>test/accuracy</th>\n",
       "      <th>test/auc</th>\n",
       "      <th>test/loss</th>\n",
       "      <th>test/lr</th>\n",
       "      <th>train/loss</th>\n",
       "      <th>_runtime</th>\n",
       "      <th>val/accuracy</th>\n",
       "      <th>test/params</th>\n",
       "      <th>best/train_loss</th>\n",
       "    </tr>\n",
       "  </thead>\n",
       "  <tbody>\n",
       "    <tr>\n",
       "      <th>0</th>\n",
       "      <td>0.722800</td>\n",
       "      <td>0.14989</td>\n",
       "      <td>0.97086</td>\n",
       "      <td>0</td>\n",
       "      <td>0.16730</td>\n",
       "      <td>373018</td>\n",
       "      <td>0.000000e+00</td>\n",
       "      <td>1.710246e+09</td>\n",
       "      <td>0.49175</td>\n",
       "      <td>0.05110</td>\n",
       "      <td>...</td>\n",
       "      <td>0</td>\n",
       "      <td>0.16465</td>\n",
       "      <td>0.48690</td>\n",
       "      <td>0.722800</td>\n",
       "      <td>0</td>\n",
       "      <td>0.720647</td>\n",
       "      <td>17.072198</td>\n",
       "      <td>0.16482</td>\n",
       "      <td>373018</td>\n",
       "      <td>0.720647</td>\n",
       "    </tr>\n",
       "    <tr>\n",
       "      <th>1</th>\n",
       "      <td>0.540007</td>\n",
       "      <td>0.13544</td>\n",
       "      <td>0.78510</td>\n",
       "      <td>0</td>\n",
       "      <td>0.24771</td>\n",
       "      <td>373018</td>\n",
       "      <td>1.000000e-04</td>\n",
       "      <td>1.710246e+09</td>\n",
       "      <td>0.59184</td>\n",
       "      <td>0.04132</td>\n",
       "      <td>...</td>\n",
       "      <td>1</td>\n",
       "      <td>0.16465</td>\n",
       "      <td>0.60293</td>\n",
       "      <td>0.540007</td>\n",
       "      <td>0</td>\n",
       "      <td>0.638027</td>\n",
       "      <td>30.245342</td>\n",
       "      <td>0.16482</td>\n",
       "      <td>373018</td>\n",
       "      <td>0.638027</td>\n",
       "    </tr>\n",
       "    <tr>\n",
       "      <th>2</th>\n",
       "      <td>0.540007</td>\n",
       "      <td>0.13539</td>\n",
       "      <td>0.78535</td>\n",
       "      <td>0</td>\n",
       "      <td>0.25578</td>\n",
       "      <td>373018</td>\n",
       "      <td>2.000000e-04</td>\n",
       "      <td>1.710246e+09</td>\n",
       "      <td>0.61199</td>\n",
       "      <td>0.04133</td>\n",
       "      <td>...</td>\n",
       "      <td>1</td>\n",
       "      <td>0.16465</td>\n",
       "      <td>0.61213</td>\n",
       "      <td>0.625633</td>\n",
       "      <td>0</td>\n",
       "      <td>0.589905</td>\n",
       "      <td>43.414253</td>\n",
       "      <td>0.16482</td>\n",
       "      <td>373018</td>\n",
       "      <td>0.638027</td>\n",
       "    </tr>\n",
       "    <tr>\n",
       "      <th>3</th>\n",
       "      <td>0.576709</td>\n",
       "      <td>0.13703</td>\n",
       "      <td>0.78508</td>\n",
       "      <td>0</td>\n",
       "      <td>0.27849</td>\n",
       "      <td>373018</td>\n",
       "      <td>3.000000e-04</td>\n",
       "      <td>1.710246e+09</td>\n",
       "      <td>0.64528</td>\n",
       "      <td>0.04132</td>\n",
       "      <td>...</td>\n",
       "      <td>3</td>\n",
       "      <td>0.16465</td>\n",
       "      <td>0.65087</td>\n",
       "      <td>0.576709</td>\n",
       "      <td>0</td>\n",
       "      <td>0.557611</td>\n",
       "      <td>56.721765</td>\n",
       "      <td>0.16482</td>\n",
       "      <td>373018</td>\n",
       "      <td>0.557611</td>\n",
       "    </tr>\n",
       "    <tr>\n",
       "      <th>4</th>\n",
       "      <td>0.377779</td>\n",
       "      <td>0.13527</td>\n",
       "      <td>0.78547</td>\n",
       "      <td>0</td>\n",
       "      <td>0.30817</td>\n",
       "      <td>373018</td>\n",
       "      <td>4.000000e-04</td>\n",
       "      <td>1.710246e+09</td>\n",
       "      <td>0.67691</td>\n",
       "      <td>0.04134</td>\n",
       "      <td>...</td>\n",
       "      <td>4</td>\n",
       "      <td>0.16465</td>\n",
       "      <td>0.71155</td>\n",
       "      <td>0.377779</td>\n",
       "      <td>0</td>\n",
       "      <td>0.488782</td>\n",
       "      <td>69.880364</td>\n",
       "      <td>0.16482</td>\n",
       "      <td>373018</td>\n",
       "      <td>0.488782</td>\n",
       "    </tr>\n",
       "    <tr>\n",
       "      <th>...</th>\n",
       "      <td>...</td>\n",
       "      <td>...</td>\n",
       "      <td>...</td>\n",
       "      <td>...</td>\n",
       "      <td>...</td>\n",
       "      <td>...</td>\n",
       "      <td>...</td>\n",
       "      <td>...</td>\n",
       "      <td>...</td>\n",
       "      <td>...</td>\n",
       "      <td>...</td>\n",
       "      <td>...</td>\n",
       "      <td>...</td>\n",
       "      <td>...</td>\n",
       "      <td>...</td>\n",
       "      <td>...</td>\n",
       "      <td>...</td>\n",
       "      <td>...</td>\n",
       "      <td>...</td>\n",
       "      <td>...</td>\n",
       "      <td>...</td>\n",
       "    </tr>\n",
       "    <tr>\n",
       "      <th>195</th>\n",
       "      <td>0.525374</td>\n",
       "      <td>0.13442</td>\n",
       "      <td>0.78157</td>\n",
       "      <td>0</td>\n",
       "      <td>0.99913</td>\n",
       "      <td>373018</td>\n",
       "      <td>1.710000e-06</td>\n",
       "      <td>1.710248e+09</td>\n",
       "      <td>0.99997</td>\n",
       "      <td>0.04114</td>\n",
       "      <td>...</td>\n",
       "      <td>99</td>\n",
       "      <td>0.16465</td>\n",
       "      <td>0.87609</td>\n",
       "      <td>0.601906</td>\n",
       "      <td>0</td>\n",
       "      <td>0.002875</td>\n",
       "      <td>2579.013803</td>\n",
       "      <td>0.16482</td>\n",
       "      <td>373018</td>\n",
       "      <td>0.011563</td>\n",
       "    </tr>\n",
       "    <tr>\n",
       "      <th>196</th>\n",
       "      <td>0.525374</td>\n",
       "      <td>0.13704</td>\n",
       "      <td>0.78118</td>\n",
       "      <td>0</td>\n",
       "      <td>0.99923</td>\n",
       "      <td>373018</td>\n",
       "      <td>1.090000e-06</td>\n",
       "      <td>1.710248e+09</td>\n",
       "      <td>0.99998</td>\n",
       "      <td>0.04111</td>\n",
       "      <td>...</td>\n",
       "      <td>99</td>\n",
       "      <td>0.16465</td>\n",
       "      <td>0.87576</td>\n",
       "      <td>0.609055</td>\n",
       "      <td>0</td>\n",
       "      <td>0.002780</td>\n",
       "      <td>2592.313499</td>\n",
       "      <td>0.16482</td>\n",
       "      <td>373018</td>\n",
       "      <td>0.011563</td>\n",
       "    </tr>\n",
       "    <tr>\n",
       "      <th>197</th>\n",
       "      <td>0.525374</td>\n",
       "      <td>0.13500</td>\n",
       "      <td>0.78115</td>\n",
       "      <td>0</td>\n",
       "      <td>0.99919</td>\n",
       "      <td>373018</td>\n",
       "      <td>6.200000e-07</td>\n",
       "      <td>1.710248e+09</td>\n",
       "      <td>0.99998</td>\n",
       "      <td>0.04111</td>\n",
       "      <td>...</td>\n",
       "      <td>99</td>\n",
       "      <td>0.16465</td>\n",
       "      <td>0.87580</td>\n",
       "      <td>0.606497</td>\n",
       "      <td>0</td>\n",
       "      <td>0.002735</td>\n",
       "      <td>2605.438787</td>\n",
       "      <td>0.16482</td>\n",
       "      <td>373018</td>\n",
       "      <td>0.011563</td>\n",
       "    </tr>\n",
       "    <tr>\n",
       "      <th>198</th>\n",
       "      <td>0.525374</td>\n",
       "      <td>0.13490</td>\n",
       "      <td>0.78037</td>\n",
       "      <td>0</td>\n",
       "      <td>0.99933</td>\n",
       "      <td>373018</td>\n",
       "      <td>2.700000e-07</td>\n",
       "      <td>1.710248e+09</td>\n",
       "      <td>0.99998</td>\n",
       "      <td>0.04107</td>\n",
       "      <td>...</td>\n",
       "      <td>99</td>\n",
       "      <td>0.16465</td>\n",
       "      <td>0.87636</td>\n",
       "      <td>0.605978</td>\n",
       "      <td>0</td>\n",
       "      <td>0.002671</td>\n",
       "      <td>2618.555085</td>\n",
       "      <td>0.16482</td>\n",
       "      <td>373018</td>\n",
       "      <td>0.011563</td>\n",
       "    </tr>\n",
       "    <tr>\n",
       "      <th>199</th>\n",
       "      <td>0.525374</td>\n",
       "      <td>0.13456</td>\n",
       "      <td>0.78090</td>\n",
       "      <td>0</td>\n",
       "      <td>0.99934</td>\n",
       "      <td>373018</td>\n",
       "      <td>7.000000e-08</td>\n",
       "      <td>1.710248e+09</td>\n",
       "      <td>0.99998</td>\n",
       "      <td>0.04110</td>\n",
       "      <td>...</td>\n",
       "      <td>99</td>\n",
       "      <td>0.16465</td>\n",
       "      <td>0.87616</td>\n",
       "      <td>0.602236</td>\n",
       "      <td>0</td>\n",
       "      <td>0.002717</td>\n",
       "      <td>2631.719122</td>\n",
       "      <td>0.16482</td>\n",
       "      <td>373018</td>\n",
       "      <td>0.011563</td>\n",
       "    </tr>\n",
       "  </tbody>\n",
       "</table>\n",
       "<p>200 rows × 39 columns</p>\n",
       "</div>"
      ],
      "text/plain": [
       "     best/test_loss  train/time_iter  val/time_epoch  val/lr  train/ap  \\\n",
       "0          0.722800          0.14989         0.97086       0   0.16730   \n",
       "1          0.540007          0.13544         0.78510       0   0.24771   \n",
       "2          0.540007          0.13539         0.78535       0   0.25578   \n",
       "3          0.576709          0.13703         0.78508       0   0.27849   \n",
       "4          0.377779          0.13527         0.78547       0   0.30817   \n",
       "..              ...              ...             ...     ...       ...   \n",
       "195        0.525374          0.13442         0.78157       0   0.99913   \n",
       "196        0.525374          0.13704         0.78118       0   0.99923   \n",
       "197        0.525374          0.13500         0.78115       0   0.99919   \n",
       "198        0.525374          0.13490         0.78037       0   0.99933   \n",
       "199        0.525374          0.13456         0.78090       0   0.99934   \n",
       "\n",
       "     val/params      train/lr    _timestamp  train/auc  val/time_iter  ...  \\\n",
       "0        373018  0.000000e+00  1.710246e+09    0.49175        0.05110  ...   \n",
       "1        373018  1.000000e-04  1.710246e+09    0.59184        0.04132  ...   \n",
       "2        373018  2.000000e-04  1.710246e+09    0.61199        0.04133  ...   \n",
       "3        373018  3.000000e-04  1.710246e+09    0.64528        0.04132  ...   \n",
       "4        373018  4.000000e-04  1.710246e+09    0.67691        0.04134  ...   \n",
       "..          ...           ...           ...        ...            ...  ...   \n",
       "195      373018  1.710000e-06  1.710248e+09    0.99997        0.04114  ...   \n",
       "196      373018  1.090000e-06  1.710248e+09    0.99998        0.04111  ...   \n",
       "197      373018  6.200000e-07  1.710248e+09    0.99998        0.04111  ...   \n",
       "198      373018  2.700000e-07  1.710248e+09    0.99998        0.04107  ...   \n",
       "199      373018  7.000000e-08  1.710248e+09    0.99998        0.04110  ...   \n",
       "\n",
       "     best/epoch  test/accuracy  test/auc  test/loss  test/lr  train/loss  \\\n",
       "0             0        0.16465   0.48690   0.722800        0    0.720647   \n",
       "1             1        0.16465   0.60293   0.540007        0    0.638027   \n",
       "2             1        0.16465   0.61213   0.625633        0    0.589905   \n",
       "3             3        0.16465   0.65087   0.576709        0    0.557611   \n",
       "4             4        0.16465   0.71155   0.377779        0    0.488782   \n",
       "..          ...            ...       ...        ...      ...         ...   \n",
       "195          99        0.16465   0.87609   0.601906        0    0.002875   \n",
       "196          99        0.16465   0.87576   0.609055        0    0.002780   \n",
       "197          99        0.16465   0.87580   0.606497        0    0.002735   \n",
       "198          99        0.16465   0.87636   0.605978        0    0.002671   \n",
       "199          99        0.16465   0.87616   0.602236        0    0.002717   \n",
       "\n",
       "        _runtime  val/accuracy  test/params  best/train_loss  \n",
       "0      17.072198       0.16482       373018         0.720647  \n",
       "1      30.245342       0.16482       373018         0.638027  \n",
       "2      43.414253       0.16482       373018         0.638027  \n",
       "3      56.721765       0.16482       373018         0.557611  \n",
       "4      69.880364       0.16482       373018         0.488782  \n",
       "..           ...           ...          ...              ...  \n",
       "195  2579.013803       0.16482       373018         0.011563  \n",
       "196  2592.313499       0.16482       373018         0.011563  \n",
       "197  2605.438787       0.16482       373018         0.011563  \n",
       "198  2618.555085       0.16482       373018         0.011563  \n",
       "199  2631.719122       0.16482       373018         0.011563  \n",
       "\n",
       "[200 rows x 39 columns]"
      ]
     },
     "execution_count": 17,
     "metadata": {},
     "output_type": "execute_result"
    }
   ],
   "source": [
    "run.history()"
   ]
  },
  {
   "cell_type": "code",
   "execution_count": 11,
   "metadata": {},
   "outputs": [
    {
     "data": {
      "text/plain": [
       "('peptides-functional.GPS.CustomGatedGCN+MultiMambaL65_10.r2',\n",
       " Empty DataFrame\n",
       " Columns: []\n",
       " Index: [])"
      ]
     },
     "execution_count": 11,
     "metadata": {},
     "output_type": "execute_result"
    }
   ],
   "source": [
    "run_data[0]"
   ]
  },
  {
   "cell_type": "code",
   "execution_count": null,
   "metadata": {},
   "outputs": [],
   "source": []
  }
 ],
 "metadata": {
  "kernelspec": {
   "display_name": "L65",
   "language": "python",
   "name": "python3"
  },
  "language_info": {
   "codemirror_mode": {
    "name": "ipython",
    "version": 3
   },
   "file_extension": ".py",
   "mimetype": "text/x-python",
   "name": "python",
   "nbconvert_exporter": "python",
   "pygments_lexer": "ipython3",
   "version": "3.10.12"
  }
 },
 "nbformat": 4,
 "nbformat_minor": 2
}
