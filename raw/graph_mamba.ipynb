{
 "cells": [
  {
   "cell_type": "code",
   "execution_count": 1,
   "id": "fbf51cdf-39fc-4267-b9ed-f9899f398ac5",
   "metadata": {},
   "outputs": [],
   "source": [
    "# !pip install torch_geometric==2.3.1"
   ]
  },
  {
   "cell_type": "code",
   "execution_count": 2,
   "id": "4cfb810b-2979-432a-9186-3a03f6ae086c",
   "metadata": {},
   "outputs": [
    {
     "name": "stderr",
     "output_type": "stream",
     "text": [
      "/home/guillem/anaconda3/envs/L65/lib/python3.10/site-packages/tqdm/auto.py:21: TqdmWarning: IProgress not found. Please update jupyter and ipywidgets. See https://ipywidgets.readthedocs.io/en/stable/user_install.html\n",
      "  from .autonotebook import tqdm as notebook_tqdm\n"
     ]
    }
   ],
   "source": [
    "import argparse\n",
    "import os.path as osp\n",
    "from typing import Any, Dict, Optional\n",
    "\n",
    "from tqdm import tqdm\n",
    "\n",
    "import torch\n",
    "from torch.nn import (\n",
    "    BatchNorm1d,\n",
    "    Embedding,\n",
    "    Linear,\n",
    "    ModuleList,\n",
    "    ReLU,\n",
    "    Sequential,\n",
    ")\n",
    "from torch.optim.lr_scheduler import ReduceLROnPlateau\n",
    "\n",
    "import torch_geometric.transforms as T\n",
    "from torch_geometric.datasets import ZINC\n",
    "from torch_geometric.loader import DataLoader\n",
    "from torch_geometric.nn import GINEConv, global_add_pool\n",
    "import inspect\n",
    "from typing import Any, Dict, Optional\n",
    "\n",
    "import torch.nn.functional as F\n",
    "from torch import Tensor\n",
    "from torch.nn import Dropout, Linear, Sequential\n",
    "\n",
    "from torch_geometric.nn.conv import MessagePassing\n",
    "from torch_geometric.nn.inits import reset\n",
    "from torch_geometric.nn.resolver import (\n",
    "    activation_resolver,\n",
    "    normalization_resolver,\n",
    ")\n",
    "from torch_geometric.typing import Adj\n",
    "from torch_geometric.utils import to_dense_batch\n",
    "\n",
    "from mamba_ssm import Mamba\n",
    "from torch_geometric.utils import degree, sort_edge_index\n",
    "\n",
    "from pytorch_lightning import seed_everything"
   ]
  },
  {
   "cell_type": "code",
   "execution_count": 3,
   "id": "49609a76-1d75-438c-b9f0-e88439dd39d1",
   "metadata": {},
   "outputs": [],
   "source": [
    "def permute_within_batch(x, batch):\n",
    "    # Enumerate over unique batch indices\n",
    "    unique_batches = torch.unique(batch)\n",
    "    \n",
    "    # Initialize list to store permuted indices\n",
    "    permuted_indices = []\n",
    "\n",
    "    for batch_index in unique_batches:\n",
    "        # Extract indices for the current batch\n",
    "        indices_in_batch = (batch == batch_index).nonzero().squeeze()\n",
    "        \n",
    "        # Permute indices within the current batch\n",
    "        permuted_indices_in_batch = indices_in_batch[torch.randperm(len(indices_in_batch))]\n",
    "        \n",
    "        # Append permuted indices to the list\n",
    "        permuted_indices.append(permuted_indices_in_batch)\n",
    "    \n",
    "    # Concatenate permuted indices into a single tensor\n",
    "    permuted_indices = torch.cat(permuted_indices)\n",
    "\n",
    "    return permuted_indices"
   ]
  },
  {
   "cell_type": "code",
   "execution_count": 41,
   "id": "1131a620-e047-4191-a843-f7f285877e89",
   "metadata": {},
   "outputs": [],
   "source": [
    "# path, subset = '/scratch/ssd004/scratch/tsepaole/ZINC_full/', False\n",
    "path, subset = '', True\n",
    "\n",
    "transform = T.AddRandomWalkPE(walk_length=20, attr_name='pe')\n",
    "train_dataset = ZINC(path, subset=subset, split='train', pre_transform=transform)\n",
    "val_dataset = ZINC(path, subset=subset, split='val', pre_transform=transform)\n",
    "test_dataset = ZINC(path, subset=subset, split='test', pre_transform=transform)\n",
    "\n",
    "train_loader = DataLoader(train_dataset, batch_size=32, shuffle=False)\n",
    "val_loader = DataLoader(val_dataset, batch_size=64)\n",
    "test_loader = DataLoader(test_dataset, batch_size=64)"
   ]
  },
  {
   "cell_type": "code",
   "execution_count": 113,
   "id": "f3945c7d",
   "metadata": {},
   "outputs": [],
   "source": [
    "def heuristic_degree(bidirectional=True):\n",
    "    def heuristic(x, pe, edge_index, edge_attr, batch):\n",
    "        deg = degree(edge_index[0], x.shape[0]).to(torch.long)\n",
    "        if bidirectional:\n",
    "            return [deg, -deg]\n",
    "        return \n",
    "    return heuristic, 2 if bidirectional else 1\n",
    "\n",
    "def heuristic_laplacian(num_coefficients=1, bidirectional=True):\n",
    "    def heuristic(x, pe, edge_index, edge_attr, batch):\n",
    "        result = []\n",
    "        for _ in range(num_coefficients):\n",
    "            result.append(x)\n",
    "            if bidirectional:\n",
    "                result.append(reversed(x))\n",
    "        return result\n",
    "    return heuristic, num_coefficients*(2 if bidirectional else 1)"
   ]
  },
  {
   "cell_type": "code",
   "execution_count": 114,
   "id": "34dc6712-8c4a-44f7-94e9-d582c5e16bcd",
   "metadata": {},
   "outputs": [],
   "source": [
    "class GPSConv(torch.nn.Module):\n",
    "\n",
    "    def __init__(\n",
    "        self,\n",
    "        channels: int,\n",
    "        conv: Optional[MessagePassing],\n",
    "        heads: int = 1,\n",
    "        dropout: float = 0.0,\n",
    "        attn_dropout: float = 0.0,\n",
    "        act: str = 'relu',\n",
    "        att_type: str = 'transformer',\n",
    "        order_by_degree: bool = False,\n",
    "        heuristics: list = [],\n",
    "        shuffle_ind: int = 0,\n",
    "        d_state: int = 16,\n",
    "        d_conv: int = 4,\n",
    "        act_kwargs: Optional[Dict[str, Any]] = None,\n",
    "        norm: Optional[str] = 'batch_norm',\n",
    "        norm_kwargs: Optional[Dict[str, Any]] = None,\n",
    "    ):\n",
    "        super().__init__()\n",
    "\n",
    "        self.channels = channels\n",
    "        self.conv = conv\n",
    "        self.heads = heads\n",
    "        self.dropout = dropout\n",
    "        self.att_type = att_type\n",
    "        self.shuffle_ind = shuffle_ind\n",
    "        self.order_by_degree = order_by_degree\n",
    "        self.heuristic_fns = []\n",
    "        \n",
    "        assert (self.order_by_degree==True and self.shuffle_ind==0) or (self.order_by_degree==False), f'order_by_degree={self.order_by_degree} and shuffle_ind={self.shuffle_ind}'\n",
    "        \n",
    "        if self.att_type == 'transformer':\n",
    "            self.attn = torch.nn.MultiheadAttention(\n",
    "                channels,\n",
    "                heads,\n",
    "                dropout=attn_dropout,\n",
    "                batch_first=True,\n",
    "            )\n",
    "        if self.att_type == 'mamba':\n",
    "            if len(heuristics) == 0:\n",
    "                self.att_type = \"mamba-old\"\n",
    "                self.self_attn = Mamba(\n",
    "                    d_model=channels,\n",
    "                    d_state=d_state,\n",
    "                    d_conv=d_conv,\n",
    "                    expand=1\n",
    "                )\n",
    "            else:\n",
    "                self.self_attn = ModuleList()\n",
    "                for heuristic_fn, return_sequences_num in heuristics:\n",
    "                    self.heuristic_fns.append(heuristic_fn)\n",
    "                    for _ in range(return_sequences_num):\n",
    "                        self.self_attn.append(Mamba(\n",
    "                            d_model=channels,\n",
    "                            d_state=d_state,\n",
    "                            d_conv=d_conv,\n",
    "                            expand=1\n",
    "                        ))\n",
    "            \n",
    "        self.mlp = Sequential(\n",
    "            Linear(channels, channels * 2),\n",
    "            activation_resolver(act, **(act_kwargs or {})),\n",
    "            Dropout(dropout),\n",
    "            Linear(channels * 2, channels),\n",
    "            Dropout(dropout),\n",
    "        )\n",
    "\n",
    "        norm_kwargs = norm_kwargs or {}\n",
    "        self.norm1 = normalization_resolver(norm, channels, **norm_kwargs)\n",
    "        self.norm2 = normalization_resolver(norm, channels, **norm_kwargs)\n",
    "        self.norm3 = normalization_resolver(norm, channels, **norm_kwargs)\n",
    "\n",
    "        self.norm_with_batch = False\n",
    "        if self.norm1 is not None:\n",
    "            signature = inspect.signature(self.norm1.forward)\n",
    "            self.norm_with_batch = 'batch' in signature.parameters\n",
    "\n",
    "    def reset_parameters(self):\n",
    "        r\"\"\"Resets all learnable parameters of the module.\"\"\"\n",
    "        if self.conv is not None:\n",
    "            self.conv.reset_parameters()\n",
    "        self.attn._reset_parameters()\n",
    "        reset(self.mlp)\n",
    "        if self.norm1 is not None:\n",
    "            self.norm1.reset_parameters()\n",
    "        if self.norm2 is not None:\n",
    "            self.norm2.reset_parameters()\n",
    "        if self.norm3 is not None:\n",
    "            self.norm3.reset_parameters()\n",
    "\n",
    "    def forward(\n",
    "        self,\n",
    "        x: Tensor,\n",
    "        edge_index: Adj,\n",
    "        batch: Optional[torch.Tensor] = None,\n",
    "        **kwargs,\n",
    "    ) -> Tensor:\n",
    "        r\"\"\"Runs the forward pass of the module.\"\"\"\n",
    "        hs = []\n",
    "        if self.conv is not None:  # Local MPNN.\n",
    "            h = self.conv(x, edge_index, **kwargs)\n",
    "            h = F.dropout(h, p=self.dropout, training=self.training)\n",
    "            h = h + x\n",
    "            if self.norm1 is not None:\n",
    "                if self.norm_with_batch:\n",
    "                    h = self.norm1(h, batch=batch)\n",
    "                else:\n",
    "                    h = self.norm1(h)\n",
    "            hs.append(h)\n",
    "\n",
    "        ### Global attention transformer-style model.\n",
    "        if self.att_type == 'transformer':\n",
    "            h, mask = to_dense_batch(x, batch)\n",
    "            h, _ = self.attn(h, h, h, key_padding_mask=~mask, need_weights=False)\n",
    "            h = h[mask]\n",
    "            \n",
    "        if self.att_type == 'mamba-old':\n",
    "            \n",
    "            if self.order_by_degree:\n",
    "                deg = degree(edge_index[0], x.shape[0]).to(torch.long)\n",
    "                order_tensor = torch.stack([batch, deg], 1).T\n",
    "                _, x = sort_edge_index(order_tensor, edge_attr=x)\n",
    "                \n",
    "            if self.shuffle_ind == 0:\n",
    "                h, mask = to_dense_batch(x, batch)\n",
    "                h = self.self_attn(h)[mask]\n",
    "            else:\n",
    "                mamba_arr = []\n",
    "                for _ in range(self.shuffle_ind):\n",
    "                    h_ind_perm = permute_within_batch(x, batch)\n",
    "                    h_i, mask = to_dense_batch(x[h_ind_perm], batch)\n",
    "                    h_i = self.self_attn(h_i)[mask][h_ind_perm]\n",
    "                    mamba_arr.append(h_i)\n",
    "                h = sum(mamba_arr) / self.shuffle_ind\n",
    "            \n",
    "        if self.att_type == 'mamba':\n",
    "\n",
    "            xs = []\n",
    "            for heuristic in self.heuristic_fns:\n",
    "                heuristic_xs = heuristic(x, batch, edge_index)\n",
    "                xs += heuristic_xs\n",
    "            \n",
    "            mamba_arr = []\n",
    "            for j, x_ in enumerate(xs):\n",
    "                h_i, mask = to_dense_batch(x_, batch)\n",
    "                h_i = self.self_attn[j](h_i)[mask]\n",
    "                mamba_arr.append(h_i)\n",
    "\n",
    "            h = sum(mamba_arr) / len(xs)\n",
    "        ###\n",
    "        \n",
    "        h = F.dropout(h, p=self.dropout, training=self.training)\n",
    "        h = h + x  # Residual connection.\n",
    "        if self.norm2 is not None:\n",
    "            if self.norm_with_batch:\n",
    "                h = self.norm2(h, batch=batch)\n",
    "            else:\n",
    "                h = self.norm2(h)\n",
    "        hs.append(h)\n",
    "\n",
    "        out = sum(hs)  # Combine local and global outputs.\n",
    "\n",
    "        out = out + self.mlp(out)\n",
    "        if self.norm3 is not None:\n",
    "            if self.norm_with_batch:\n",
    "                out = self.norm3(out, batch=batch)\n",
    "            else:\n",
    "                out = self.norm3(out)\n",
    "\n",
    "        return out\n",
    "\n",
    "    def __repr__(self) -> str:\n",
    "        return (f'{self.__class__.__name__}({self.channels}, '\n",
    "                f'conv={self.conv}, heads={self.heads})')"
   ]
  },
  {
   "cell_type": "code",
   "execution_count": 115,
   "id": "d9fea5c7-9fc9-4388-98fd-8c45787d0abc",
   "metadata": {},
   "outputs": [],
   "source": [
    "class GraphModel(torch.nn.Module):\n",
    "    def __init__(self, channels: int, pe_dim: int, num_layers: int, model_type: str, shuffle_ind: int, d_state: int, d_conv: int, order_by_degree: False, heuristics=[]):\n",
    "        super().__init__()\n",
    "\n",
    "        self.node_emb = Embedding(28, channels - pe_dim)\n",
    "        self.pe_lin = Linear(20, pe_dim)\n",
    "        self.pe_norm = BatchNorm1d(20)\n",
    "        self.edge_emb = Embedding(4, channels)\n",
    "        self.model_type = model_type\n",
    "        self.shuffle_ind = shuffle_ind\n",
    "        self.order_by_degree = order_by_degree\n",
    "        self.heuristic_fns = []\n",
    "        self.heuristics_num = 0 \n",
    "        for heuristic_fn, return_sequences_num in heuristics:\n",
    "            self.heuristic_fns.append(heuristic_fn)\n",
    "            self.heuristics_num = return_sequences_num\n",
    "        \n",
    "        self.convs = ModuleList()\n",
    "        for _ in range(num_layers):\n",
    "            nn = Sequential(\n",
    "                Linear(channels, channels),\n",
    "                ReLU(),\n",
    "                Linear(channels, channels),\n",
    "            )\n",
    "            if self.model_type == 'gine':\n",
    "                conv = GINEConv(nn)\n",
    "                \n",
    "            if self.model_type == 'mamba':\n",
    "                conv = GPSConv(channels, GINEConv(nn), heads=4, attn_dropout=0.5,\n",
    "                               att_type='mamba',\n",
    "                               shuffle_ind=self.shuffle_ind,\n",
    "                               order_by_degree=self.order_by_degree,\n",
    "                               heuristics_num=heuristics_num,\n",
    "                               d_state=d_state, d_conv=d_conv)\n",
    "                \n",
    "            if self.model_type == 'transformer':\n",
    "                conv = GPSConv(channels, GINEConv(nn), heads=4, attn_dropout=0.5, att_type='transformer')\n",
    "                \n",
    "            # conv = GINEConv(nn)\n",
    "            self.convs.append(conv)\n",
    "\n",
    "        self.mlp = Sequential(\n",
    "            Linear(channels, channels // 2),\n",
    "            ReLU(),\n",
    "            Linear(channels // 2, channels // 4),\n",
    "            ReLU(),\n",
    "            Linear(channels // 4, 1),\n",
    "        )\n",
    "\n",
    "    def forward(self, x, pe, edge_index, edge_attr, batch):\n",
    "        x_pe = self.pe_norm(pe)\n",
    "        x = torch.cat((self.node_emb(x.squeeze(-1)), self.pe_lin(x_pe)), 1)\n",
    "        edge_attr = self.edge_emb(edge_attr)\n",
    "\n",
    "        heuristics = []\n",
    "        for heuristic in self.heuristic_fns:\n",
    "            h = heuristic(x, pe, edge_index, edge_attr, batch)\n",
    "            order_tensor = torch.stack([batch, h], 1).T\n",
    "            heuristics.append(order_tensor)\n",
    "\n",
    "        for conv in self.convs:\n",
    "            if self.model_type == 'gine':\n",
    "                x = conv(x, edge_index, edge_attr=edge_attr)\n",
    "            elif self.model_type == 'mamba':\n",
    "                x = conv(x, edge_index, batch, edge_attr=edge_attr, heuristics=heuristics)\n",
    "            else:\n",
    "                x = conv(x, edge_index, batch, edge_attr=edge_attr)\n",
    "                \n",
    "        x = global_add_pool(x, batch)\n",
    "        return self.mlp(x)"
   ]
  },
  {
   "cell_type": "code",
   "execution_count": 96,
   "id": "85c6d04a-4eff-45ef-be39-93e4b520a967",
   "metadata": {},
   "outputs": [],
   "source": [
    "def train():\n",
    "    model.train()\n",
    "    \n",
    "    total_loss = 0\n",
    "    for data in tqdm(train_loader, total=len(train_loader)):\n",
    "        data = data.to(device)\n",
    "        optimizer.zero_grad()\n",
    "        out = model(data.x, data.pe, data.edge_index, data.edge_attr,\n",
    "                    data.batch)\n",
    "        loss = (out.squeeze() - data.y).abs().mean()\n",
    "        loss.backward()\n",
    "        total_loss += loss.item() * data.num_graphs\n",
    "        # print(loss.item())\n",
    "        optimizer.step()\n",
    "    return total_loss / len(train_loader.dataset)"
   ]
  },
  {
   "cell_type": "code",
   "execution_count": 97,
   "id": "0ddc967c-1c69-4d26-aa30-20c212c92c81",
   "metadata": {},
   "outputs": [],
   "source": [
    "@torch.no_grad()\n",
    "def test(loader):\n",
    "    model.eval()\n",
    "\n",
    "    total_error = 0\n",
    "    for data in loader:\n",
    "        data = data.to(device)\n",
    "        # print(data.x.shape)\n",
    "        out = model(data.x, data.pe, data.edge_index, data.edge_attr,\n",
    "                    data.batch)\n",
    "        total_error += (out.squeeze() - data.y).abs().sum().item()\n",
    "        # print(data.x.isnan().sum()+data.pe.isnan().sum()+data.edge_index.isnan().sum()+data.edge_attr.isnan().sum()+data.batch.isnan().sum())\n",
    "        # print(out.squeeze(), data.y)\n",
    "        # print((out.squeeze() - data.y).abs().sum().item())\n",
    "        # print()\n",
    "    return total_error / len(loader.dataset)"
   ]
  },
  {
   "cell_type": "code",
   "execution_count": 9,
   "id": "03d5de1c-0c2d-4fd4-81db-58f5f4257764",
   "metadata": {},
   "outputs": [],
   "source": [
    "# it.to(device)"
   ]
  },
  {
   "cell_type": "code",
   "execution_count": 13,
   "id": "cf9b7ab1-54e5-415d-be4a-c43742c33608",
   "metadata": {
    "tags": []
   },
   "outputs": [
    {
     "name": "stderr",
     "output_type": "stream",
     "text": [
      "100%|██████████| 313/313 [00:25<00:00, 12.11it/s]\n"
     ]
    },
    {
     "name": "stdout",
     "output_type": "stream",
     "text": [
      "Epoch: 01, Loss: 0.7150, Val: 0.5494, Test: 0.5997\n"
     ]
    },
    {
     "name": "stderr",
     "output_type": "stream",
     "text": [
      "100%|██████████| 313/313 [00:25<00:00, 12.21it/s]\n"
     ]
    },
    {
     "name": "stdout",
     "output_type": "stream",
     "text": [
      "Epoch: 02, Loss: 0.6122, Val: 0.7392, Test: 0.7644\n"
     ]
    },
    {
     "name": "stderr",
     "output_type": "stream",
     "text": [
      "100%|██████████| 313/313 [00:19<00:00, 15.94it/s]\n"
     ]
    },
    {
     "name": "stdout",
     "output_type": "stream",
     "text": [
      "Epoch: 03, Loss: 0.5605, Val: 0.5302, Test: 0.5540\n"
     ]
    },
    {
     "name": "stderr",
     "output_type": "stream",
     "text": [
      "100%|██████████| 313/313 [00:18<00:00, 16.82it/s]\n"
     ]
    },
    {
     "name": "stdout",
     "output_type": "stream",
     "text": [
      "Epoch: 04, Loss: 0.5267, Val: 0.4714, Test: 0.4841\n"
     ]
    },
    {
     "name": "stderr",
     "output_type": "stream",
     "text": [
      "100%|██████████| 313/313 [00:17<00:00, 17.69it/s]\n"
     ]
    },
    {
     "name": "stdout",
     "output_type": "stream",
     "text": [
      "Epoch: 05, Loss: 0.5068, Val: 0.6031, Test: 0.5710\n"
     ]
    },
    {
     "name": "stderr",
     "output_type": "stream",
     "text": [
      "100%|██████████| 313/313 [00:18<00:00, 16.78it/s]\n"
     ]
    },
    {
     "name": "stdout",
     "output_type": "stream",
     "text": [
      "Epoch: 06, Loss: 0.5027, Val: 0.6516, Test: 0.6524\n"
     ]
    },
    {
     "name": "stderr",
     "output_type": "stream",
     "text": [
      "100%|██████████| 313/313 [00:15<00:00, 19.81it/s]\n"
     ]
    },
    {
     "name": "stdout",
     "output_type": "stream",
     "text": [
      "Epoch: 07, Loss: 0.4643, Val: 0.4983, Test: 0.4895\n"
     ]
    },
    {
     "name": "stderr",
     "output_type": "stream",
     "text": [
      "100%|██████████| 313/313 [00:17<00:00, 18.21it/s]\n"
     ]
    },
    {
     "name": "stdout",
     "output_type": "stream",
     "text": [
      "Epoch: 08, Loss: 0.4660, Val: 0.5225, Test: 0.5327\n"
     ]
    },
    {
     "name": "stderr",
     "output_type": "stream",
     "text": [
      "100%|██████████| 313/313 [00:18<00:00, 17.23it/s]\n"
     ]
    },
    {
     "name": "stdout",
     "output_type": "stream",
     "text": [
      "Epoch: 09, Loss: 0.4514, Val: 0.4935, Test: 0.4961\n"
     ]
    },
    {
     "name": "stderr",
     "output_type": "stream",
     "text": [
      "100%|██████████| 313/313 [00:19<00:00, 16.10it/s]\n"
     ]
    },
    {
     "name": "stdout",
     "output_type": "stream",
     "text": [
      "Epoch: 10, Loss: 0.4255, Val: 0.5721, Test: 0.5699\n"
     ]
    },
    {
     "name": "stderr",
     "output_type": "stream",
     "text": [
      "100%|██████████| 313/313 [00:20<00:00, 15.03it/s]\n"
     ]
    },
    {
     "name": "stdout",
     "output_type": "stream",
     "text": [
      "Epoch: 11, Loss: 0.4184, Val: 0.4846, Test: 0.4828\n"
     ]
    },
    {
     "name": "stderr",
     "output_type": "stream",
     "text": [
      "100%|██████████| 313/313 [00:19<00:00, 16.35it/s]\n"
     ]
    },
    {
     "name": "stdout",
     "output_type": "stream",
     "text": [
      "Epoch: 12, Loss: 0.4132, Val: 0.3917, Test: 0.3487\n"
     ]
    },
    {
     "name": "stderr",
     "output_type": "stream",
     "text": [
      "100%|██████████| 313/313 [00:19<00:00, 16.29it/s]\n"
     ]
    },
    {
     "name": "stdout",
     "output_type": "stream",
     "text": [
      "Epoch: 13, Loss: 0.4117, Val: 0.3894, Test: 0.4047\n"
     ]
    },
    {
     "name": "stderr",
     "output_type": "stream",
     "text": [
      "100%|██████████| 313/313 [00:18<00:00, 17.34it/s]\n"
     ]
    },
    {
     "name": "stdout",
     "output_type": "stream",
     "text": [
      "Epoch: 14, Loss: 0.4050, Val: nan, Test: nan\n"
     ]
    },
    {
     "name": "stderr",
     "output_type": "stream",
     "text": [
      "100%|██████████| 313/313 [00:17<00:00, 17.50it/s]\n"
     ]
    },
    {
     "name": "stdout",
     "output_type": "stream",
     "text": [
      "Epoch: 15, Loss: 0.3973, Val: 0.4923, Test: 0.4988\n"
     ]
    },
    {
     "name": "stderr",
     "output_type": "stream",
     "text": [
      "100%|██████████| 313/313 [00:17<00:00, 18.21it/s]\n"
     ]
    },
    {
     "name": "stdout",
     "output_type": "stream",
     "text": [
      "Epoch: 16, Loss: 0.3786, Val: nan, Test: nan\n"
     ]
    },
    {
     "name": "stderr",
     "output_type": "stream",
     "text": [
      "100%|██████████| 313/313 [00:16<00:00, 19.09it/s]\n"
     ]
    },
    {
     "name": "stdout",
     "output_type": "stream",
     "text": [
      "Epoch: 17, Loss: 0.3911, Val: 0.5341, Test: 0.5199\n"
     ]
    },
    {
     "name": "stderr",
     "output_type": "stream",
     "text": [
      "100%|██████████| 313/313 [00:16<00:00, 18.79it/s]\n"
     ]
    },
    {
     "name": "stdout",
     "output_type": "stream",
     "text": [
      "Epoch: 18, Loss: 0.3845, Val: 0.3414, Test: 0.3354\n"
     ]
    },
    {
     "name": "stderr",
     "output_type": "stream",
     "text": [
      "100%|██████████| 313/313 [00:16<00:00, 19.17it/s]\n"
     ]
    },
    {
     "name": "stdout",
     "output_type": "stream",
     "text": [
      "Epoch: 19, Loss: 0.3631, Val: nan, Test: nan\n"
     ]
    },
    {
     "name": "stderr",
     "output_type": "stream",
     "text": [
      "100%|██████████| 313/313 [00:16<00:00, 18.67it/s]\n"
     ]
    },
    {
     "name": "stdout",
     "output_type": "stream",
     "text": [
      "Epoch: 20, Loss: 0.3610, Val: nan, Test: nan\n"
     ]
    },
    {
     "name": "stderr",
     "output_type": "stream",
     "text": [
      "100%|██████████| 313/313 [00:19<00:00, 15.67it/s]\n"
     ]
    },
    {
     "name": "stdout",
     "output_type": "stream",
     "text": [
      "Epoch: 21, Loss: 0.3713, Val: nan, Test: nan\n"
     ]
    },
    {
     "name": "stderr",
     "output_type": "stream",
     "text": [
      "100%|██████████| 313/313 [00:21<00:00, 14.53it/s]\n"
     ]
    },
    {
     "name": "stdout",
     "output_type": "stream",
     "text": [
      "Epoch: 22, Loss: 0.3552, Val: 0.4834, Test: 0.4993\n"
     ]
    },
    {
     "name": "stderr",
     "output_type": "stream",
     "text": [
      "100%|██████████| 313/313 [00:22<00:00, 13.66it/s]\n"
     ]
    },
    {
     "name": "stdout",
     "output_type": "stream",
     "text": [
      "Epoch: 23, Loss: 0.3504, Val: 0.4976, Test: nan\n"
     ]
    },
    {
     "name": "stderr",
     "output_type": "stream",
     "text": [
      "100%|██████████| 313/313 [00:22<00:00, 13.73it/s]\n"
     ]
    },
    {
     "name": "stdout",
     "output_type": "stream",
     "text": [
      "Epoch: 24, Loss: 0.3542, Val: nan, Test: nan\n"
     ]
    },
    {
     "name": "stderr",
     "output_type": "stream",
     "text": [
      "100%|██████████| 313/313 [00:20<00:00, 15.27it/s]\n"
     ]
    },
    {
     "name": "stdout",
     "output_type": "stream",
     "text": [
      "Epoch: 25, Loss: 0.3357, Val: nan, Test: nan\n"
     ]
    },
    {
     "name": "stderr",
     "output_type": "stream",
     "text": [
      "100%|██████████| 313/313 [00:19<00:00, 16.11it/s]\n"
     ]
    },
    {
     "name": "stdout",
     "output_type": "stream",
     "text": [
      "Epoch: 26, Loss: 0.3339, Val: 0.5082, Test: nan\n"
     ]
    },
    {
     "name": "stderr",
     "output_type": "stream",
     "text": [
      "100%|██████████| 313/313 [00:20<00:00, 15.18it/s]\n"
     ]
    },
    {
     "name": "stdout",
     "output_type": "stream",
     "text": [
      "Epoch: 27, Loss: 0.3273, Val: nan, Test: nan\n"
     ]
    },
    {
     "name": "stderr",
     "output_type": "stream",
     "text": [
      "100%|██████████| 313/313 [00:23<00:00, 13.24it/s]\n"
     ]
    },
    {
     "name": "stdout",
     "output_type": "stream",
     "text": [
      "Epoch: 28, Loss: 0.3300, Val: nan, Test: nan\n"
     ]
    },
    {
     "name": "stderr",
     "output_type": "stream",
     "text": [
      "100%|██████████| 313/313 [00:28<00:00, 10.80it/s]\n"
     ]
    },
    {
     "name": "stdout",
     "output_type": "stream",
     "text": [
      "Epoch: 29, Loss: 0.3253, Val: nan, Test: nan\n",
      "[0.5996598854064942, 0.7644245338439941, 0.5540183296203613, 0.48406396293640136, 0.5709599857330322, 0.652398078918457, 0.4895087661743164, 0.5327159786224365, 0.49606224822998046, 0.5698553123474122, 0.48284191513061525, 0.3486849994659424, 0.40469066619873045, nan, 0.49884879302978513, nan, 0.5198935852050781, 0.33538764572143553, nan, nan, nan, 0.4993139820098877, nan, nan, nan, nan, nan, nan, nan]\n"
     ]
    }
   ],
   "source": [
    "torch.manual_seed(0)\n",
    "\n",
    "device = torch.device('cuda' if torch.cuda.is_available() else 'cpu')\n",
    "\n",
    "model = GraphModel(channels=64, pe_dim=8, num_layers=10,\n",
    "                   model_type='mamba',\n",
    "                   shuffle_ind=0, order_by_degree=True,\n",
    "                   d_conv=4, d_state=16,\n",
    "                  ).to(device)\n",
    "optimizer = torch.optim.Adam(model.parameters(), lr=0.001, weight_decay=1e-5)\n",
    "scheduler = ReduceLROnPlateau(optimizer, mode='min', factor=0.5, patience=20,\n",
    "                              min_lr=0.00001)\n",
    "arr = []\n",
    "for epoch in range(1, 30):\n",
    "    loss = train()\n",
    "    val_mae = test(val_loader)\n",
    "    test_mae = test(test_loader)\n",
    "    scheduler.step(val_mae)\n",
    "    print(f'Epoch: {epoch:02d}, Loss: {loss:.4f}, Val: {val_mae:.4f}, '\n",
    "          f'Test: {test_mae:.4f}')\n",
    "    arr.append(test_mae)\n",
    "ordering = arr\n",
    "print(ordering)"
   ]
  },
  {
   "cell_type": "code",
   "execution_count": 19,
   "id": "b1d1503a",
   "metadata": {},
   "outputs": [
    {
     "name": "stderr",
     "output_type": "stream",
     "text": [
      "100%|██████████| 313/313 [00:39<00:00,  7.97it/s]\n"
     ]
    },
    {
     "name": "stdout",
     "output_type": "stream",
     "text": [
      "Epoch: 01, Loss: 0.6607, Val: 0.5037, Test: 0.4943\n"
     ]
    },
    {
     "name": "stderr",
     "output_type": "stream",
     "text": [
      "100%|██████████| 313/313 [00:41<00:00,  7.52it/s]\n"
     ]
    },
    {
     "name": "stdout",
     "output_type": "stream",
     "text": [
      "Epoch: 02, Loss: 0.5107, Val: 0.6301, Test: 0.6095\n"
     ]
    },
    {
     "name": "stderr",
     "output_type": "stream",
     "text": [
      "100%|██████████| 313/313 [00:58<00:00,  5.34it/s]\n"
     ]
    },
    {
     "name": "stdout",
     "output_type": "stream",
     "text": [
      "Epoch: 03, Loss: 0.4816, Val: 0.5877, Test: 0.5940\n"
     ]
    },
    {
     "name": "stderr",
     "output_type": "stream",
     "text": [
      "100%|██████████| 313/313 [00:45<00:00,  6.89it/s]\n"
     ]
    },
    {
     "name": "stdout",
     "output_type": "stream",
     "text": [
      "Epoch: 04, Loss: 0.4538, Val: 0.4258, Test: 0.4205\n"
     ]
    },
    {
     "name": "stderr",
     "output_type": "stream",
     "text": [
      "100%|██████████| 313/313 [00:43<00:00,  7.17it/s]\n"
     ]
    },
    {
     "name": "stdout",
     "output_type": "stream",
     "text": [
      "Epoch: 05, Loss: 0.4330, Val: 0.3683, Test: 0.3614\n"
     ]
    },
    {
     "name": "stderr",
     "output_type": "stream",
     "text": [
      "100%|██████████| 313/313 [00:47<00:00,  6.64it/s]\n"
     ]
    },
    {
     "name": "stdout",
     "output_type": "stream",
     "text": [
      "Epoch: 06, Loss: 0.4025, Val: 0.4856, Test: 0.4815\n"
     ]
    },
    {
     "name": "stderr",
     "output_type": "stream",
     "text": [
      "100%|██████████| 313/313 [00:53<00:00,  5.83it/s]\n"
     ]
    },
    {
     "name": "stdout",
     "output_type": "stream",
     "text": [
      "Epoch: 07, Loss: 0.3948, Val: 0.3819, Test: 0.3924\n"
     ]
    },
    {
     "name": "stderr",
     "output_type": "stream",
     "text": [
      "100%|██████████| 313/313 [00:46<00:00,  6.80it/s]\n"
     ]
    },
    {
     "name": "stdout",
     "output_type": "stream",
     "text": [
      "Epoch: 08, Loss: 0.3713, Val: 0.3909, Test: 0.3928\n"
     ]
    },
    {
     "name": "stderr",
     "output_type": "stream",
     "text": [
      "100%|██████████| 313/313 [00:38<00:00,  8.22it/s]\n"
     ]
    },
    {
     "name": "stdout",
     "output_type": "stream",
     "text": [
      "Epoch: 09, Loss: 0.3676, Val: 0.5833, Test: 0.5746\n"
     ]
    },
    {
     "name": "stderr",
     "output_type": "stream",
     "text": [
      "100%|██████████| 313/313 [00:35<00:00,  8.72it/s]\n"
     ]
    },
    {
     "name": "stdout",
     "output_type": "stream",
     "text": [
      "Epoch: 10, Loss: 0.3603, Val: 0.3486, Test: 0.3149\n"
     ]
    },
    {
     "name": "stderr",
     "output_type": "stream",
     "text": [
      "100%|██████████| 313/313 [00:37<00:00,  8.45it/s]\n"
     ]
    },
    {
     "name": "stdout",
     "output_type": "stream",
     "text": [
      "Epoch: 11, Loss: 0.3403, Val: 0.4026, Test: 0.3671\n"
     ]
    },
    {
     "name": "stderr",
     "output_type": "stream",
     "text": [
      "100%|██████████| 313/313 [00:45<00:00,  6.95it/s]\n"
     ]
    },
    {
     "name": "stdout",
     "output_type": "stream",
     "text": [
      "Epoch: 12, Loss: 0.3341, Val: 0.3967, Test: 0.3629\n"
     ]
    },
    {
     "name": "stderr",
     "output_type": "stream",
     "text": [
      "100%|██████████| 313/313 [00:43<00:00,  7.12it/s]\n"
     ]
    },
    {
     "name": "stdout",
     "output_type": "stream",
     "text": [
      "Epoch: 13, Loss: 0.3330, Val: 0.2782, Test: 0.2529\n"
     ]
    },
    {
     "name": "stderr",
     "output_type": "stream",
     "text": [
      "100%|██████████| 313/313 [00:42<00:00,  7.31it/s]\n"
     ]
    },
    {
     "name": "stdout",
     "output_type": "stream",
     "text": [
      "Epoch: 14, Loss: 0.3387, Val: 0.4724, Test: 0.4429\n"
     ]
    },
    {
     "name": "stderr",
     "output_type": "stream",
     "text": [
      "100%|██████████| 313/313 [00:38<00:00,  8.23it/s]\n"
     ]
    },
    {
     "name": "stdout",
     "output_type": "stream",
     "text": [
      "Epoch: 15, Loss: 0.3243, Val: 0.3276, Test: 0.3002\n"
     ]
    },
    {
     "name": "stderr",
     "output_type": "stream",
     "text": [
      "100%|██████████| 313/313 [00:41<00:00,  7.52it/s]\n"
     ]
    },
    {
     "name": "stdout",
     "output_type": "stream",
     "text": [
      "Epoch: 16, Loss: 0.3113, Val: 0.3246, Test: 0.3013\n"
     ]
    },
    {
     "name": "stderr",
     "output_type": "stream",
     "text": [
      "100%|██████████| 313/313 [00:37<00:00,  8.29it/s]\n"
     ]
    },
    {
     "name": "stdout",
     "output_type": "stream",
     "text": [
      "Epoch: 17, Loss: 0.3146, Val: 0.2779, Test: 0.2507\n"
     ]
    },
    {
     "name": "stderr",
     "output_type": "stream",
     "text": [
      "100%|██████████| 313/313 [00:40<00:00,  7.80it/s]\n"
     ]
    },
    {
     "name": "stdout",
     "output_type": "stream",
     "text": [
      "Epoch: 18, Loss: 0.3180, Val: 0.4175, Test: 0.4021\n"
     ]
    },
    {
     "name": "stderr",
     "output_type": "stream",
     "text": [
      "100%|██████████| 313/313 [00:42<00:00,  7.37it/s]\n"
     ]
    },
    {
     "name": "stdout",
     "output_type": "stream",
     "text": [
      "Epoch: 19, Loss: 0.3089, Val: 0.5092, Test: 0.4915\n"
     ]
    },
    {
     "name": "stderr",
     "output_type": "stream",
     "text": [
      "100%|██████████| 313/313 [00:51<00:00,  6.10it/s]\n"
     ]
    },
    {
     "name": "stdout",
     "output_type": "stream",
     "text": [
      "Epoch: 20, Loss: 0.3061, Val: 0.3731, Test: 0.3395\n"
     ]
    },
    {
     "name": "stderr",
     "output_type": "stream",
     "text": [
      "100%|██████████| 313/313 [00:40<00:00,  7.65it/s]\n"
     ]
    },
    {
     "name": "stdout",
     "output_type": "stream",
     "text": [
      "Epoch: 21, Loss: 0.2984, Val: 0.3238, Test: 0.2998\n"
     ]
    },
    {
     "name": "stderr",
     "output_type": "stream",
     "text": [
      "100%|██████████| 313/313 [00:39<00:00,  7.87it/s]\n"
     ]
    },
    {
     "name": "stdout",
     "output_type": "stream",
     "text": [
      "Epoch: 22, Loss: 0.2956, Val: 0.2685, Test: 0.2370\n"
     ]
    },
    {
     "name": "stderr",
     "output_type": "stream",
     "text": [
      "100%|██████████| 313/313 [00:38<00:00,  8.15it/s]\n"
     ]
    },
    {
     "name": "stdout",
     "output_type": "stream",
     "text": [
      "Epoch: 23, Loss: 0.2950, Val: 0.4149, Test: 0.3945\n"
     ]
    },
    {
     "name": "stderr",
     "output_type": "stream",
     "text": [
      "100%|██████████| 313/313 [00:38<00:00,  8.04it/s]\n"
     ]
    },
    {
     "name": "stdout",
     "output_type": "stream",
     "text": [
      "Epoch: 24, Loss: 0.2856, Val: 0.2794, Test: 0.2501\n"
     ]
    },
    {
     "name": "stderr",
     "output_type": "stream",
     "text": [
      "100%|██████████| 313/313 [00:37<00:00,  8.29it/s]\n"
     ]
    },
    {
     "name": "stdout",
     "output_type": "stream",
     "text": [
      "Epoch: 25, Loss: 0.3317, Val: 0.3004, Test: 0.2663\n"
     ]
    },
    {
     "name": "stderr",
     "output_type": "stream",
     "text": [
      "100%|██████████| 313/313 [00:41<00:00,  7.61it/s]\n"
     ]
    },
    {
     "name": "stdout",
     "output_type": "stream",
     "text": [
      "Epoch: 26, Loss: 0.3267, Val: 0.3714, Test: 0.3569\n"
     ]
    },
    {
     "name": "stderr",
     "output_type": "stream",
     "text": [
      "100%|██████████| 313/313 [00:41<00:00,  7.61it/s]\n"
     ]
    },
    {
     "name": "stdout",
     "output_type": "stream",
     "text": [
      "Epoch: 27, Loss: 0.2867, Val: 0.3012, Test: 0.2608\n"
     ]
    },
    {
     "name": "stderr",
     "output_type": "stream",
     "text": [
      "100%|██████████| 313/313 [00:44<00:00,  7.01it/s]\n"
     ]
    },
    {
     "name": "stdout",
     "output_type": "stream",
     "text": [
      "Epoch: 28, Loss: 0.2873, Val: 0.2717, Test: 0.2441\n"
     ]
    },
    {
     "name": "stderr",
     "output_type": "stream",
     "text": [
      "100%|██████████| 313/313 [00:39<00:00,  7.89it/s]\n"
     ]
    },
    {
     "name": "stdout",
     "output_type": "stream",
     "text": [
      "Epoch: 29, Loss: 0.2779, Val: 0.2735, Test: 0.2622\n",
      "[0.49429701423645017, 0.6095406608581543, 0.5940301818847656, 0.4205348072052002, 0.3613911533355713, 0.48146320724487307, 0.39238958740234375, 0.39279563426971437, 0.5746134586334228, 0.31488039207458496, 0.36710520172119143, 0.362928430557251, 0.2528926315307617, 0.4429228410720825, 0.3001689891815186, 0.3012860851287842, 0.2506535568237305, 0.40206051635742185, 0.4914529571533203, 0.3395397291183472, 0.29984785556793214, 0.23699731636047364, 0.39449454116821286, 0.2501465635299683, 0.2663017930984497, 0.3569190330505371, 0.26079588222503663, 0.24408090019226075, 0.26216835975646974]\n"
     ]
    }
   ],
   "source": [
    "torch.manual_seed(0)\n",
    "\n",
    "device = torch.device('cuda' if torch.cuda.is_available() else 'cpu')\n",
    "\n",
    "model = GraphModel(channels=64, pe_dim=8, num_layers=10,\n",
    "                   model_type='mamba',\n",
    "                   shuffle_ind=1, order_by_degree=False,\n",
    "                   d_conv=4, d_state=16,\n",
    "                  ).to(device)\n",
    "optimizer = torch.optim.Adam(model.parameters(), lr=0.001, weight_decay=1e-5)\n",
    "scheduler = ReduceLROnPlateau(optimizer, mode='min', factor=0.5, patience=20,\n",
    "                              min_lr=0.00001)\n",
    "arr = []\n",
    "for epoch in range(1, 30):\n",
    "    loss = train()\n",
    "    val_mae = test(val_loader)\n",
    "    test_mae = test(test_loader)\n",
    "    scheduler.step(val_mae)\n",
    "    print(f'Epoch: {epoch:02d}, Loss: {loss:.4f}, Val: {val_mae:.4f}, '\n",
    "          f'Test: {test_mae:.4f}')\n",
    "    arr.append(test_mae)\n",
    "permute = arr\n",
    "print(permute)"
   ]
  },
  {
   "cell_type": "code",
   "execution_count": 117,
   "id": "01578b95",
   "metadata": {},
   "outputs": [
    {
     "name": "stderr",
     "output_type": "stream",
     "text": [
      "Seed set to 0\n",
      "100%|██████████| 313/313 [00:26<00:00, 11.84it/s]\n"
     ]
    },
    {
     "name": "stdout",
     "output_type": "stream",
     "text": [
      "Epoch: 01, Loss: 0.6467, Val: 0.5013, Test: 0.5020\n"
     ]
    },
    {
     "name": "stderr",
     "output_type": "stream",
     "text": [
      "100%|██████████| 313/313 [00:26<00:00, 11.78it/s]\n"
     ]
    },
    {
     "name": "stdout",
     "output_type": "stream",
     "text": [
      "Epoch: 02, Loss: 0.5194, Val: 0.4879, Test: 0.4844\n"
     ]
    },
    {
     "name": "stderr",
     "output_type": "stream",
     "text": [
      "100%|██████████| 313/313 [00:27<00:00, 11.49it/s]\n"
     ]
    },
    {
     "name": "stdout",
     "output_type": "stream",
     "text": [
      "Epoch: 03, Loss: 0.4723, Val: 0.3975, Test: 0.4005\n"
     ]
    },
    {
     "name": "stderr",
     "output_type": "stream",
     "text": [
      "100%|██████████| 313/313 [00:28<00:00, 10.99it/s]\n"
     ]
    },
    {
     "name": "stdout",
     "output_type": "stream",
     "text": [
      "Epoch: 04, Loss: 0.4401, Val: 0.5219, Test: 0.5270\n"
     ]
    },
    {
     "name": "stderr",
     "output_type": "stream",
     "text": [
      "100%|██████████| 313/313 [00:32<00:00,  9.71it/s]\n"
     ]
    },
    {
     "name": "stdout",
     "output_type": "stream",
     "text": [
      "Epoch: 05, Loss: 0.4173, Val: 0.3761, Test: 0.3732\n"
     ]
    },
    {
     "name": "stderr",
     "output_type": "stream",
     "text": [
      "100%|██████████| 313/313 [00:39<00:00,  7.88it/s]\n"
     ]
    },
    {
     "name": "stdout",
     "output_type": "stream",
     "text": [
      "Epoch: 06, Loss: 0.3981, Val: 0.3668, Test: 0.3636\n"
     ]
    },
    {
     "name": "stderr",
     "output_type": "stream",
     "text": [
      "100%|██████████| 313/313 [00:41<00:00,  7.59it/s]\n"
     ]
    },
    {
     "name": "stdout",
     "output_type": "stream",
     "text": [
      "Epoch: 07, Loss: 0.3689, Val: 0.3523, Test: 0.3371\n"
     ]
    },
    {
     "name": "stderr",
     "output_type": "stream",
     "text": [
      "100%|██████████| 313/313 [00:31<00:00,  9.79it/s]\n"
     ]
    },
    {
     "name": "stdout",
     "output_type": "stream",
     "text": [
      "Epoch: 08, Loss: 0.3580, Val: 0.3495, Test: 0.3378\n"
     ]
    },
    {
     "name": "stderr",
     "output_type": "stream",
     "text": [
      "100%|██████████| 313/313 [00:29<00:00, 10.44it/s]\n"
     ]
    },
    {
     "name": "stdout",
     "output_type": "stream",
     "text": [
      "Epoch: 09, Loss: 0.3458, Val: 0.3438, Test: 0.3327\n"
     ]
    },
    {
     "name": "stderr",
     "output_type": "stream",
     "text": [
      "100%|██████████| 313/313 [00:29<00:00, 10.47it/s]\n"
     ]
    },
    {
     "name": "stdout",
     "output_type": "stream",
     "text": [
      "Epoch: 10, Loss: 0.3325, Val: 0.3256, Test: 0.3020\n"
     ]
    },
    {
     "name": "stderr",
     "output_type": "stream",
     "text": [
      "100%|██████████| 313/313 [00:29<00:00, 10.60it/s]\n"
     ]
    },
    {
     "name": "stdout",
     "output_type": "stream",
     "text": [
      "Epoch: 11, Loss: 0.3367, Val: 0.3387, Test: 0.2957\n"
     ]
    },
    {
     "name": "stderr",
     "output_type": "stream",
     "text": [
      "100%|██████████| 313/313 [00:25<00:00, 12.14it/s]\n"
     ]
    },
    {
     "name": "stdout",
     "output_type": "stream",
     "text": [
      "Epoch: 12, Loss: 0.3264, Val: 0.3364, Test: 0.3223\n"
     ]
    },
    {
     "name": "stderr",
     "output_type": "stream",
     "text": [
      "100%|██████████| 313/313 [00:25<00:00, 12.49it/s]\n"
     ]
    },
    {
     "name": "stdout",
     "output_type": "stream",
     "text": [
      "Epoch: 13, Loss: 0.3202, Val: 0.4642, Test: 0.4663\n"
     ]
    },
    {
     "name": "stderr",
     "output_type": "stream",
     "text": [
      "100%|██████████| 313/313 [00:27<00:00, 11.49it/s]\n"
     ]
    },
    {
     "name": "stdout",
     "output_type": "stream",
     "text": [
      "Epoch: 14, Loss: 0.3050, Val: 0.3739, Test: 0.3435\n"
     ]
    },
    {
     "name": "stderr",
     "output_type": "stream",
     "text": [
      "100%|██████████| 313/313 [00:28<00:00, 11.11it/s]\n"
     ]
    },
    {
     "name": "stdout",
     "output_type": "stream",
     "text": [
      "Epoch: 15, Loss: 0.2895, Val: 0.3747, Test: 0.3732\n"
     ]
    },
    {
     "name": "stderr",
     "output_type": "stream",
     "text": [
      "100%|██████████| 313/313 [00:34<00:00,  9.14it/s]\n"
     ]
    },
    {
     "name": "stdout",
     "output_type": "stream",
     "text": [
      "Epoch: 16, Loss: 0.2955, Val: nan, Test: nan\n"
     ]
    },
    {
     "name": "stderr",
     "output_type": "stream",
     "text": [
      "100%|██████████| 313/313 [00:43<00:00,  7.17it/s]\n"
     ]
    },
    {
     "name": "stdout",
     "output_type": "stream",
     "text": [
      "Epoch: 17, Loss: 0.2982, Val: 0.3996, Test: 0.3980\n"
     ]
    },
    {
     "name": "stderr",
     "output_type": "stream",
     "text": [
      "100%|██████████| 313/313 [00:47<00:00,  6.65it/s]\n"
     ]
    },
    {
     "name": "stdout",
     "output_type": "stream",
     "text": [
      "Epoch: 18, Loss: 0.2775, Val: 0.3258, Test: 0.3232\n"
     ]
    },
    {
     "name": "stderr",
     "output_type": "stream",
     "text": [
      "100%|██████████| 313/313 [00:47<00:00,  6.55it/s]\n"
     ]
    },
    {
     "name": "stdout",
     "output_type": "stream",
     "text": [
      "Epoch: 19, Loss: 0.2726, Val: 0.3164, Test: 0.2846\n"
     ]
    },
    {
     "name": "stderr",
     "output_type": "stream",
     "text": [
      "100%|██████████| 313/313 [00:35<00:00,  8.75it/s]\n"
     ]
    },
    {
     "name": "stdout",
     "output_type": "stream",
     "text": [
      "Epoch: 20, Loss: 0.2670, Val: 0.3707, Test: 0.3530\n"
     ]
    },
    {
     "name": "stderr",
     "output_type": "stream",
     "text": [
      "100%|██████████| 313/313 [00:35<00:00,  8.75it/s]\n"
     ]
    },
    {
     "name": "stdout",
     "output_type": "stream",
     "text": [
      "Epoch: 21, Loss: 0.2591, Val: 0.3415, Test: 0.3212\n"
     ]
    },
    {
     "name": "stderr",
     "output_type": "stream",
     "text": [
      "100%|██████████| 313/313 [00:37<00:00,  8.37it/s]\n"
     ]
    },
    {
     "name": "stdout",
     "output_type": "stream",
     "text": [
      "Epoch: 22, Loss: 0.2573, Val: 0.3727, Test: 0.3451\n"
     ]
    },
    {
     "name": "stderr",
     "output_type": "stream",
     "text": [
      "100%|██████████| 313/313 [00:28<00:00, 10.82it/s]\n"
     ]
    },
    {
     "name": "stdout",
     "output_type": "stream",
     "text": [
      "Epoch: 23, Loss: 0.2503, Val: 0.4474, Test: 0.4187\n"
     ]
    },
    {
     "name": "stderr",
     "output_type": "stream",
     "text": [
      "100%|██████████| 313/313 [00:31<00:00, 10.06it/s]\n"
     ]
    },
    {
     "name": "stdout",
     "output_type": "stream",
     "text": [
      "Epoch: 24, Loss: 0.2410, Val: 0.3103, Test: 0.2863\n"
     ]
    },
    {
     "name": "stderr",
     "output_type": "stream",
     "text": [
      "100%|██████████| 313/313 [00:45<00:00,  6.85it/s]\n"
     ]
    },
    {
     "name": "stdout",
     "output_type": "stream",
     "text": [
      "Epoch: 25, Loss: 0.2416, Val: 0.3505, Test: 0.3248\n"
     ]
    },
    {
     "name": "stderr",
     "output_type": "stream",
     "text": [
      "100%|██████████| 313/313 [00:47<00:00,  6.62it/s]\n"
     ]
    },
    {
     "name": "stdout",
     "output_type": "stream",
     "text": [
      "Epoch: 26, Loss: 0.2383, Val: 0.3002, Test: 0.2740\n"
     ]
    },
    {
     "name": "stderr",
     "output_type": "stream",
     "text": [
      "100%|██████████| 313/313 [00:38<00:00,  8.21it/s]\n"
     ]
    },
    {
     "name": "stdout",
     "output_type": "stream",
     "text": [
      "Epoch: 27, Loss: 0.2367, Val: 0.3309, Test: 0.3046\n"
     ]
    },
    {
     "name": "stderr",
     "output_type": "stream",
     "text": [
      "100%|██████████| 313/313 [00:34<00:00,  9.20it/s]\n"
     ]
    },
    {
     "name": "stdout",
     "output_type": "stream",
     "text": [
      "Epoch: 28, Loss: 0.2304, Val: 0.3583, Test: 0.3278\n"
     ]
    },
    {
     "name": "stderr",
     "output_type": "stream",
     "text": [
      "100%|██████████| 313/313 [00:30<00:00, 10.18it/s]\n"
     ]
    },
    {
     "name": "stdout",
     "output_type": "stream",
     "text": [
      "Epoch: 29, Loss: 0.2133, Val: nan, Test: 0.3381\n",
      "[0.5020209312438965, 0.4843837413787842, 0.4004611120223999, 0.5270380744934082, 0.3731770324707031, 0.3636079034805298, 0.33714397716522215, 0.33783555603027343, 0.33270667457580566, 0.3019917125701904, 0.295710542678833, 0.3223284320831299, 0.46633251953125, 0.3434801826477051, 0.3731965093612671, nan, 0.39796131324768064, 0.32320265102386475, 0.2846104803085327, 0.35300305557250977, 0.3211725959777832, 0.3451220016479492, 0.4186748218536377, 0.28632971382141115, 0.3247586536407471, 0.2739903163909912, 0.304631721496582, 0.3278228521347046, 0.33808866024017337]\n"
     ]
    }
   ],
   "source": [
    "seed_everything(0)\n",
    "\n",
    "device = torch.device('cuda' if torch.cuda.is_available() else 'cpu')\n",
    "\n",
    "model = GraphModel(channels=64, pe_dim=8, num_layers=10,\n",
    "                   model_type='mamba',\n",
    "                   heuristics=[heuristic_degree(bidirectional=True)],\n",
    "                   shuffle_ind=0, order_by_degree=True,\n",
    "                   d_conv=4, d_state=16,\n",
    "                  ).to(device)\n",
    "optimizer = torch.optim.Adam(model.parameters(), lr=0.001, weight_decay=1e-5)\n",
    "scheduler = ReduceLROnPlateau(optimizer, mode='min', factor=0.5, patience=20,\n",
    "                              min_lr=0.00001)\n",
    "\n",
    "\n",
    "\n",
    "arr = []\n",
    "for epoch in range(1, 30):\n",
    "    loss = train()\n",
    "    val_mae = test(val_loader)\n",
    "    test_mae = test(test_loader)\n",
    "    scheduler.step(val_mae)\n",
    "    print(f'Epoch: {epoch:02d}, Loss: {loss:.4f}, Val: {val_mae:.4f}, '\n",
    "          f'Test: {test_mae:.4f}')\n",
    "    arr.append(test_mae)\n",
    "heuristic_degree = arr\n",
    "print(heuristic_degree)"
   ]
  },
  {
   "cell_type": "code",
   "execution_count": 102,
   "id": "523a3c6b",
   "metadata": {},
   "outputs": [
    {
     "ename": "AttributeError",
     "evalue": "'GPSConv' object has no attribute 'model_type'",
     "output_type": "error",
     "traceback": [
      "\u001b[0;31m---------------------------------------------------------------------------\u001b[0m",
      "\u001b[0;31mAttributeError\u001b[0m                            Traceback (most recent call last)",
      "Cell \u001b[0;32mIn[102], line 1\u001b[0m\n\u001b[0;32m----> 1\u001b[0m \u001b[38;5;28mprint\u001b[39m(\u001b[43mmodel\u001b[49m\u001b[38;5;241;43m.\u001b[39;49m\u001b[43mconvs\u001b[49m\u001b[43m[\u001b[49m\u001b[38;5;241;43m0\u001b[39;49m\u001b[43m]\u001b[49m\u001b[38;5;241;43m.\u001b[39;49m\u001b[43mmodel_type\u001b[49m)\n",
      "File \u001b[0;32m~/anaconda3/envs/L65/lib/python3.10/site-packages/torch/nn/modules/module.py:1688\u001b[0m, in \u001b[0;36mModule.__getattr__\u001b[0;34m(self, name)\u001b[0m\n\u001b[1;32m   1686\u001b[0m     \u001b[38;5;28;01mif\u001b[39;00m name \u001b[38;5;129;01min\u001b[39;00m modules:\n\u001b[1;32m   1687\u001b[0m         \u001b[38;5;28;01mreturn\u001b[39;00m modules[name]\n\u001b[0;32m-> 1688\u001b[0m \u001b[38;5;28;01mraise\u001b[39;00m \u001b[38;5;167;01mAttributeError\u001b[39;00m(\u001b[38;5;124mf\u001b[39m\u001b[38;5;124m\"\u001b[39m\u001b[38;5;124m'\u001b[39m\u001b[38;5;132;01m{\u001b[39;00m\u001b[38;5;28mtype\u001b[39m(\u001b[38;5;28mself\u001b[39m)\u001b[38;5;241m.\u001b[39m\u001b[38;5;18m__name__\u001b[39m\u001b[38;5;132;01m}\u001b[39;00m\u001b[38;5;124m'\u001b[39m\u001b[38;5;124m object has no attribute \u001b[39m\u001b[38;5;124m'\u001b[39m\u001b[38;5;132;01m{\u001b[39;00mname\u001b[38;5;132;01m}\u001b[39;00m\u001b[38;5;124m'\u001b[39m\u001b[38;5;124m\"\u001b[39m)\n",
      "\u001b[0;31mAttributeError\u001b[0m: 'GPSConv' object has no attribute 'model_type'"
     ]
    }
   ],
   "source": [
    "print(model.convs[0].model_type)"
   ]
  },
  {
   "cell_type": "code",
   "execution_count": 88,
   "id": "809c4990",
   "metadata": {},
   "outputs": [
    {
     "name": "stderr",
     "output_type": "stream",
     "text": [
      "Seed set to 0\n",
      "  1%|          | 3/313 [00:00<00:28, 10.70it/s]"
     ]
    },
    {
     "name": "stdout",
     "output_type": "stream",
     "text": [
      "0.9563907384872437\n",
      "1.5338521003723145\n",
      "1.4171003103256226\n"
     ]
    },
    {
     "name": "stderr",
     "output_type": "stream",
     "text": [
      "  2%|▏         | 5/313 [00:00<00:26, 11.79it/s]"
     ]
    },
    {
     "name": "stdout",
     "output_type": "stream",
     "text": [
      "1.186648964881897\n",
      "0.9960853457450867\n",
      "1.4731650352478027\n"
     ]
    },
    {
     "name": "stderr",
     "output_type": "stream",
     "text": [
      "  3%|▎         | 9/313 [00:00<00:22, 13.30it/s]"
     ]
    },
    {
     "name": "stdout",
     "output_type": "stream",
     "text": [
      "1.1182193756103516\n",
      "1.0601283311843872\n",
      "0.9412961602210999\n",
      "1.5598227977752686\n"
     ]
    },
    {
     "name": "stderr",
     "output_type": "stream",
     "text": [
      "  4%|▍         | 13/313 [00:00<00:19, 15.36it/s]"
     ]
    },
    {
     "name": "stdout",
     "output_type": "stream",
     "text": [
      "1.3214446306228638\n",
      "1.0765321254730225\n",
      "1.050783634185791\n",
      "0.8994115591049194\n"
     ]
    },
    {
     "name": "stderr",
     "output_type": "stream",
     "text": [
      "  4%|▍         | 14/313 [00:01<00:22, 13.40it/s]\n"
     ]
    },
    {
     "ename": "KeyboardInterrupt",
     "evalue": "",
     "output_type": "error",
     "traceback": [
      "\u001b[0;31m---------------------------------------------------------------------------\u001b[0m",
      "\u001b[0;31mKeyboardInterrupt\u001b[0m                         Traceback (most recent call last)",
      "Cell \u001b[0;32mIn[88], line 19\u001b[0m\n\u001b[1;32m     17\u001b[0m arr \u001b[38;5;241m=\u001b[39m []\n\u001b[1;32m     18\u001b[0m \u001b[38;5;28;01mfor\u001b[39;00m epoch \u001b[38;5;129;01min\u001b[39;00m \u001b[38;5;28mrange\u001b[39m(\u001b[38;5;241m1\u001b[39m, \u001b[38;5;241m30\u001b[39m):\n\u001b[0;32m---> 19\u001b[0m     loss \u001b[38;5;241m=\u001b[39m \u001b[43mtrain\u001b[49m\u001b[43m(\u001b[49m\u001b[43m)\u001b[49m\n\u001b[1;32m     20\u001b[0m     val_mae \u001b[38;5;241m=\u001b[39m test(val_loader)\n\u001b[1;32m     21\u001b[0m     test_mae \u001b[38;5;241m=\u001b[39m test(test_loader)\n",
      "Cell \u001b[0;32mIn[82], line 8\u001b[0m, in \u001b[0;36mtrain\u001b[0;34m()\u001b[0m\n\u001b[1;32m      6\u001b[0m data \u001b[38;5;241m=\u001b[39m data\u001b[38;5;241m.\u001b[39mto(device)\n\u001b[1;32m      7\u001b[0m optimizer\u001b[38;5;241m.\u001b[39mzero_grad()\n\u001b[0;32m----> 8\u001b[0m out \u001b[38;5;241m=\u001b[39m \u001b[43mmodel\u001b[49m\u001b[43m(\u001b[49m\u001b[43mdata\u001b[49m\u001b[38;5;241;43m.\u001b[39;49m\u001b[43mx\u001b[49m\u001b[43m,\u001b[49m\u001b[43m \u001b[49m\u001b[43mdata\u001b[49m\u001b[38;5;241;43m.\u001b[39;49m\u001b[43mpe\u001b[49m\u001b[43m,\u001b[49m\u001b[43m \u001b[49m\u001b[43mdata\u001b[49m\u001b[38;5;241;43m.\u001b[39;49m\u001b[43medge_index\u001b[49m\u001b[43m,\u001b[49m\u001b[43m \u001b[49m\u001b[43mdata\u001b[49m\u001b[38;5;241;43m.\u001b[39;49m\u001b[43medge_attr\u001b[49m\u001b[43m,\u001b[49m\n\u001b[1;32m      9\u001b[0m \u001b[43m            \u001b[49m\u001b[43mdata\u001b[49m\u001b[38;5;241;43m.\u001b[39;49m\u001b[43mbatch\u001b[49m\u001b[43m)\u001b[49m\n\u001b[1;32m     10\u001b[0m loss \u001b[38;5;241m=\u001b[39m (out\u001b[38;5;241m.\u001b[39msqueeze() \u001b[38;5;241m-\u001b[39m data\u001b[38;5;241m.\u001b[39my)\u001b[38;5;241m.\u001b[39mabs()\u001b[38;5;241m.\u001b[39mmean()\n\u001b[1;32m     11\u001b[0m loss\u001b[38;5;241m.\u001b[39mbackward()\n",
      "File \u001b[0;32m~/anaconda3/envs/L65/lib/python3.10/site-packages/torch/nn/modules/module.py:1511\u001b[0m, in \u001b[0;36mModule._wrapped_call_impl\u001b[0;34m(self, *args, **kwargs)\u001b[0m\n\u001b[1;32m   1509\u001b[0m     \u001b[38;5;28;01mreturn\u001b[39;00m \u001b[38;5;28mself\u001b[39m\u001b[38;5;241m.\u001b[39m_compiled_call_impl(\u001b[38;5;241m*\u001b[39margs, \u001b[38;5;241m*\u001b[39m\u001b[38;5;241m*\u001b[39mkwargs)  \u001b[38;5;66;03m# type: ignore[misc]\u001b[39;00m\n\u001b[1;32m   1510\u001b[0m \u001b[38;5;28;01melse\u001b[39;00m:\n\u001b[0;32m-> 1511\u001b[0m     \u001b[38;5;28;01mreturn\u001b[39;00m \u001b[38;5;28;43mself\u001b[39;49m\u001b[38;5;241;43m.\u001b[39;49m\u001b[43m_call_impl\u001b[49m\u001b[43m(\u001b[49m\u001b[38;5;241;43m*\u001b[39;49m\u001b[43margs\u001b[49m\u001b[43m,\u001b[49m\u001b[43m \u001b[49m\u001b[38;5;241;43m*\u001b[39;49m\u001b[38;5;241;43m*\u001b[39;49m\u001b[43mkwargs\u001b[49m\u001b[43m)\u001b[49m\n",
      "File \u001b[0;32m~/anaconda3/envs/L65/lib/python3.10/site-packages/torch/nn/modules/module.py:1520\u001b[0m, in \u001b[0;36mModule._call_impl\u001b[0;34m(self, *args, **kwargs)\u001b[0m\n\u001b[1;32m   1515\u001b[0m \u001b[38;5;66;03m# If we don't have any hooks, we want to skip the rest of the logic in\u001b[39;00m\n\u001b[1;32m   1516\u001b[0m \u001b[38;5;66;03m# this function, and just call forward.\u001b[39;00m\n\u001b[1;32m   1517\u001b[0m \u001b[38;5;28;01mif\u001b[39;00m \u001b[38;5;129;01mnot\u001b[39;00m (\u001b[38;5;28mself\u001b[39m\u001b[38;5;241m.\u001b[39m_backward_hooks \u001b[38;5;129;01mor\u001b[39;00m \u001b[38;5;28mself\u001b[39m\u001b[38;5;241m.\u001b[39m_backward_pre_hooks \u001b[38;5;129;01mor\u001b[39;00m \u001b[38;5;28mself\u001b[39m\u001b[38;5;241m.\u001b[39m_forward_hooks \u001b[38;5;129;01mor\u001b[39;00m \u001b[38;5;28mself\u001b[39m\u001b[38;5;241m.\u001b[39m_forward_pre_hooks\n\u001b[1;32m   1518\u001b[0m         \u001b[38;5;129;01mor\u001b[39;00m _global_backward_pre_hooks \u001b[38;5;129;01mor\u001b[39;00m _global_backward_hooks\n\u001b[1;32m   1519\u001b[0m         \u001b[38;5;129;01mor\u001b[39;00m _global_forward_hooks \u001b[38;5;129;01mor\u001b[39;00m _global_forward_pre_hooks):\n\u001b[0;32m-> 1520\u001b[0m     \u001b[38;5;28;01mreturn\u001b[39;00m \u001b[43mforward_call\u001b[49m\u001b[43m(\u001b[49m\u001b[38;5;241;43m*\u001b[39;49m\u001b[43margs\u001b[49m\u001b[43m,\u001b[49m\u001b[43m \u001b[49m\u001b[38;5;241;43m*\u001b[39;49m\u001b[38;5;241;43m*\u001b[39;49m\u001b[43mkwargs\u001b[49m\u001b[43m)\u001b[49m\n\u001b[1;32m   1522\u001b[0m \u001b[38;5;28;01mtry\u001b[39;00m:\n\u001b[1;32m   1523\u001b[0m     result \u001b[38;5;241m=\u001b[39m \u001b[38;5;28;01mNone\u001b[39;00m\n",
      "Cell \u001b[0;32mIn[36], line 54\u001b[0m, in \u001b[0;36mGraphModel.forward\u001b[0;34m(self, x, pe, edge_index, edge_attr, batch)\u001b[0m\n\u001b[1;32m     52\u001b[0m         x \u001b[38;5;241m=\u001b[39m conv(x, edge_index, edge_attr\u001b[38;5;241m=\u001b[39medge_attr)\n\u001b[1;32m     53\u001b[0m     \u001b[38;5;28;01melse\u001b[39;00m:\n\u001b[0;32m---> 54\u001b[0m         x \u001b[38;5;241m=\u001b[39m \u001b[43mconv\u001b[49m\u001b[43m(\u001b[49m\u001b[43mx\u001b[49m\u001b[43m,\u001b[49m\u001b[43m \u001b[49m\u001b[43medge_index\u001b[49m\u001b[43m,\u001b[49m\u001b[43m \u001b[49m\u001b[43mbatch\u001b[49m\u001b[43m,\u001b[49m\u001b[43m \u001b[49m\u001b[43medge_attr\u001b[49m\u001b[38;5;241;43m=\u001b[39;49m\u001b[43medge_attr\u001b[49m\u001b[43m)\u001b[49m\n\u001b[1;32m     56\u001b[0m x \u001b[38;5;241m=\u001b[39m global_add_pool(x, batch)\n\u001b[1;32m     57\u001b[0m \u001b[38;5;28;01mreturn\u001b[39;00m \u001b[38;5;28mself\u001b[39m\u001b[38;5;241m.\u001b[39mmlp(x)\n",
      "File \u001b[0;32m~/anaconda3/envs/L65/lib/python3.10/site-packages/torch/nn/modules/module.py:1511\u001b[0m, in \u001b[0;36mModule._wrapped_call_impl\u001b[0;34m(self, *args, **kwargs)\u001b[0m\n\u001b[1;32m   1509\u001b[0m     \u001b[38;5;28;01mreturn\u001b[39;00m \u001b[38;5;28mself\u001b[39m\u001b[38;5;241m.\u001b[39m_compiled_call_impl(\u001b[38;5;241m*\u001b[39margs, \u001b[38;5;241m*\u001b[39m\u001b[38;5;241m*\u001b[39mkwargs)  \u001b[38;5;66;03m# type: ignore[misc]\u001b[39;00m\n\u001b[1;32m   1510\u001b[0m \u001b[38;5;28;01melse\u001b[39;00m:\n\u001b[0;32m-> 1511\u001b[0m     \u001b[38;5;28;01mreturn\u001b[39;00m \u001b[38;5;28;43mself\u001b[39;49m\u001b[38;5;241;43m.\u001b[39;49m\u001b[43m_call_impl\u001b[49m\u001b[43m(\u001b[49m\u001b[38;5;241;43m*\u001b[39;49m\u001b[43margs\u001b[49m\u001b[43m,\u001b[49m\u001b[43m \u001b[49m\u001b[38;5;241;43m*\u001b[39;49m\u001b[38;5;241;43m*\u001b[39;49m\u001b[43mkwargs\u001b[49m\u001b[43m)\u001b[49m\n",
      "File \u001b[0;32m~/anaconda3/envs/L65/lib/python3.10/site-packages/torch/nn/modules/module.py:1520\u001b[0m, in \u001b[0;36mModule._call_impl\u001b[0;34m(self, *args, **kwargs)\u001b[0m\n\u001b[1;32m   1515\u001b[0m \u001b[38;5;66;03m# If we don't have any hooks, we want to skip the rest of the logic in\u001b[39;00m\n\u001b[1;32m   1516\u001b[0m \u001b[38;5;66;03m# this function, and just call forward.\u001b[39;00m\n\u001b[1;32m   1517\u001b[0m \u001b[38;5;28;01mif\u001b[39;00m \u001b[38;5;129;01mnot\u001b[39;00m (\u001b[38;5;28mself\u001b[39m\u001b[38;5;241m.\u001b[39m_backward_hooks \u001b[38;5;129;01mor\u001b[39;00m \u001b[38;5;28mself\u001b[39m\u001b[38;5;241m.\u001b[39m_backward_pre_hooks \u001b[38;5;129;01mor\u001b[39;00m \u001b[38;5;28mself\u001b[39m\u001b[38;5;241m.\u001b[39m_forward_hooks \u001b[38;5;129;01mor\u001b[39;00m \u001b[38;5;28mself\u001b[39m\u001b[38;5;241m.\u001b[39m_forward_pre_hooks\n\u001b[1;32m   1518\u001b[0m         \u001b[38;5;129;01mor\u001b[39;00m _global_backward_pre_hooks \u001b[38;5;129;01mor\u001b[39;00m _global_backward_hooks\n\u001b[1;32m   1519\u001b[0m         \u001b[38;5;129;01mor\u001b[39;00m _global_forward_hooks \u001b[38;5;129;01mor\u001b[39;00m _global_forward_pre_hooks):\n\u001b[0;32m-> 1520\u001b[0m     \u001b[38;5;28;01mreturn\u001b[39;00m \u001b[43mforward_call\u001b[49m\u001b[43m(\u001b[49m\u001b[38;5;241;43m*\u001b[39;49m\u001b[43margs\u001b[49m\u001b[43m,\u001b[49m\u001b[43m \u001b[49m\u001b[38;5;241;43m*\u001b[39;49m\u001b[38;5;241;43m*\u001b[39;49m\u001b[43mkwargs\u001b[49m\u001b[43m)\u001b[49m\n\u001b[1;32m   1522\u001b[0m \u001b[38;5;28;01mtry\u001b[39;00m:\n\u001b[1;32m   1523\u001b[0m     result \u001b[38;5;241m=\u001b[39m \u001b[38;5;28;01mNone\u001b[39;00m\n",
      "Cell \u001b[0;32mIn[35], line 124\u001b[0m, in \u001b[0;36mGPSConv.forward\u001b[0;34m(self, x, edge_index, batch, **kwargs)\u001b[0m\n\u001b[1;32m    122\u001b[0m     deg \u001b[38;5;241m=\u001b[39m degree(edge_index[\u001b[38;5;241m0\u001b[39m], x\u001b[38;5;241m.\u001b[39mshape[\u001b[38;5;241m0\u001b[39m])\u001b[38;5;241m.\u001b[39mto(torch\u001b[38;5;241m.\u001b[39mlong)\n\u001b[1;32m    123\u001b[0m     order_tensor \u001b[38;5;241m=\u001b[39m torch\u001b[38;5;241m.\u001b[39mstack([batch, deg], \u001b[38;5;241m1\u001b[39m)\u001b[38;5;241m.\u001b[39mT\n\u001b[0;32m--> 124\u001b[0m     _, x \u001b[38;5;241m=\u001b[39m \u001b[43msort_edge_index\u001b[49m\u001b[43m(\u001b[49m\u001b[43morder_tensor\u001b[49m\u001b[43m,\u001b[49m\u001b[43m \u001b[49m\u001b[43medge_attr\u001b[49m\u001b[38;5;241;43m=\u001b[39;49m\u001b[43mx\u001b[49m\u001b[43m)\u001b[49m\n\u001b[1;32m    126\u001b[0m \u001b[38;5;28;01mif\u001b[39;00m \u001b[38;5;28mself\u001b[39m\u001b[38;5;241m.\u001b[39mshuffle_ind \u001b[38;5;241m==\u001b[39m \u001b[38;5;241m0\u001b[39m:\n\u001b[1;32m    127\u001b[0m     h, mask \u001b[38;5;241m=\u001b[39m to_dense_batch(x, batch)\n",
      "File \u001b[0;32m~/anaconda3/envs/L65/lib/python3.10/site-packages/torch_geometric/utils/sort_edge_index.py:82\u001b[0m, in \u001b[0;36msort_edge_index\u001b[0;34m(edge_index, edge_attr, num_nodes, sort_by_row)\u001b[0m\n\u001b[1;32m     79\u001b[0m idx \u001b[38;5;241m=\u001b[39m edge_index[\u001b[38;5;241m1\u001b[39m \u001b[38;5;241m-\u001b[39m \u001b[38;5;28mint\u001b[39m(sort_by_row)] \u001b[38;5;241m*\u001b[39m num_nodes\n\u001b[1;32m     80\u001b[0m idx \u001b[38;5;241m+\u001b[39m\u001b[38;5;241m=\u001b[39m edge_index[\u001b[38;5;28mint\u001b[39m(sort_by_row)]\n\u001b[0;32m---> 82\u001b[0m _, perm \u001b[38;5;241m=\u001b[39m \u001b[43mindex_sort\u001b[49m\u001b[43m(\u001b[49m\u001b[43midx\u001b[49m\u001b[43m,\u001b[49m\u001b[43m \u001b[49m\u001b[43mmax_value\u001b[49m\u001b[38;5;241;43m=\u001b[39;49m\u001b[43mnum_nodes\u001b[49m\u001b[43m \u001b[49m\u001b[38;5;241;43m*\u001b[39;49m\u001b[43m \u001b[49m\u001b[43mnum_nodes\u001b[49m\u001b[43m)\u001b[49m\n\u001b[1;32m     84\u001b[0m \u001b[38;5;28;01mif\u001b[39;00m \u001b[38;5;28misinstance\u001b[39m(edge_index, Tensor):\n\u001b[1;32m     85\u001b[0m     edge_index \u001b[38;5;241m=\u001b[39m edge_index[:, perm]\n",
      "File \u001b[0;32m~/anaconda3/envs/L65/lib/python3.10/site-packages/torch_geometric/utils/sort.py:26\u001b[0m, in \u001b[0;36mindex_sort\u001b[0;34m(inputs, max_value)\u001b[0m\n\u001b[1;32m     13\u001b[0m \u001b[38;5;250m\u001b[39m\u001b[38;5;124mr\u001b[39m\u001b[38;5;124;03m\"\"\"Sorts the elements of the :obj:`inputs` tensor in ascending order.\u001b[39;00m\n\u001b[1;32m     14\u001b[0m \u001b[38;5;124;03mIt is expected that :obj:`inputs` is one-dimensional and that it only\u001b[39;00m\n\u001b[1;32m     15\u001b[0m \u001b[38;5;124;03mcontains positive integer values. If :obj:`max_value` is given, it can\u001b[39;00m\n\u001b[0;32m   (...)\u001b[0m\n\u001b[1;32m     23\u001b[0m \u001b[38;5;124;03m        (default: :obj:`None`)\u001b[39;00m\n\u001b[1;32m     24\u001b[0m \u001b[38;5;124;03m\"\"\"\u001b[39;00m\n\u001b[1;32m     25\u001b[0m \u001b[38;5;28;01mif\u001b[39;00m \u001b[38;5;129;01mnot\u001b[39;00m torch_geometric\u001b[38;5;241m.\u001b[39mtyping\u001b[38;5;241m.\u001b[39mWITH_INDEX_SORT:  \u001b[38;5;66;03m# pragma: no cover\u001b[39;00m\n\u001b[0;32m---> 26\u001b[0m     \u001b[38;5;28;01mreturn\u001b[39;00m \u001b[43minputs\u001b[49m\u001b[38;5;241;43m.\u001b[39;49m\u001b[43msort\u001b[49m\u001b[43m(\u001b[49m\u001b[43m)\u001b[49m\n\u001b[1;32m     27\u001b[0m \u001b[38;5;28;01mreturn\u001b[39;00m pyg_lib\u001b[38;5;241m.\u001b[39mops\u001b[38;5;241m.\u001b[39mindex_sort(inputs, max_value\u001b[38;5;241m=\u001b[39mmax_value)\n",
      "\u001b[0;31mKeyboardInterrupt\u001b[0m: "
     ]
    }
   ],
   "source": [
    "seed_everything(0)\n",
    "\n",
    "device = torch.device('cuda' if torch.cuda.is_available() else 'cpu')\n",
    "\n",
    "model = GraphModel(channels=64, pe_dim=8, num_layers=10,\n",
    "                   model_type='mamba',\n",
    "                #    heuristics=[heuristic_degree(bidirectional=False)],\n",
    "                   shuffle_ind=0, order_by_degree=True,\n",
    "                   d_conv=4, d_state=16,\n",
    "                  ).to(device)\n",
    "optimizer = torch.optim.Adam(model.parameters(), lr=0.001, weight_decay=1e-5)\n",
    "scheduler = ReduceLROnPlateau(optimizer, mode='min', factor=0.5, patience=20,\n",
    "                              min_lr=0.00001)\n",
    "\n",
    "\n",
    "\n",
    "arr = []\n",
    "for epoch in range(1, 30):\n",
    "    loss = train()\n",
    "    val_mae = test(val_loader)\n",
    "    test_mae = test(test_loader)\n",
    "    scheduler.step(val_mae)\n",
    "    print(f'Epoch: {epoch:02d}, Loss: {loss:.4f}, Val: {val_mae:.4f}, '\n",
    "          f'Test: {test_mae:.4f}')\n",
    "    arr.append(test_mae)\n",
    "heuristic_degree = arr\n",
    "print(heuristic_degree)"
   ]
  },
  {
   "cell_type": "code",
   "execution_count": 81,
   "id": "e377348b",
   "metadata": {},
   "outputs": [
    {
     "name": "stderr",
     "output_type": "stream",
     "text": [
      "Seed set to 0\n"
     ]
    },
    {
     "name": "stdout",
     "output_type": "stream",
     "text": [
      "tensor([[-5.5525e-04],\n",
      "        [ 1.9067e+00],\n",
      "        [ 1.3586e+00],\n",
      "        [ 1.2021e+00],\n",
      "        [ 4.6850e-01],\n",
      "        [-6.4569e-02],\n",
      "        [-5.2212e-01],\n",
      "        [-1.9141e+00],\n",
      "        [ 2.5577e-02],\n",
      "        [ 1.3778e+00],\n",
      "        [ 1.8915e-01],\n",
      "        [ 1.3048e+00],\n",
      "        [-1.9093e+00],\n",
      "        [-3.3911e+00],\n",
      "        [-3.1505e+00],\n",
      "        [-9.1132e-01],\n",
      "        [ 1.0671e+00],\n",
      "        [-1.5710e+00],\n",
      "        [ 5.0181e-01],\n",
      "        [-3.2785e-01],\n",
      "        [ 1.1745e+00],\n",
      "        [-2.7333e+00],\n",
      "        [-1.5317e+00],\n",
      "        [ 6.3784e-01],\n",
      "        [-1.2515e+00],\n",
      "        [ 5.9403e-01],\n",
      "        [-2.5237e-01],\n",
      "        [-6.8664e-02],\n",
      "        [-8.7910e-01],\n",
      "        [ 1.8593e+00],\n",
      "        [ 2.5439e-01],\n",
      "        [-2.2297e+00],\n",
      "        [ 1.4977e+00],\n",
      "        [-2.1410e-01],\n",
      "        [-2.4108e+00],\n",
      "        [-8.0997e-01],\n",
      "        [ 1.0892e+00],\n",
      "        [ 1.2089e+00],\n",
      "        [ 1.5737e-02],\n",
      "        [-2.2780e+00],\n",
      "        [ 1.6802e+00],\n",
      "        [ 7.3924e-01],\n",
      "        [ 2.7776e+00],\n",
      "        [-1.3995e+00],\n",
      "        [ 1.2381e+00],\n",
      "        [-1.4721e+00],\n",
      "        [-2.0856e-01],\n",
      "        [ 7.4836e-01],\n",
      "        [-2.1604e-01],\n",
      "        [ 1.3463e+00],\n",
      "        [-3.3718e-01],\n",
      "        [ 1.0432e-01],\n",
      "        [-6.6463e-01],\n",
      "        [ 2.1651e+00],\n",
      "        [ 8.2838e-01],\n",
      "        [-1.0603e+00],\n",
      "        [ 8.5905e-01],\n",
      "        [ 1.3110e+00],\n",
      "        [ 3.7988e+00],\n",
      "        [ 3.6442e-01],\n",
      "        [ 1.1853e+00],\n",
      "        [ 2.0054e+00],\n",
      "        [ 2.5145e+00],\n",
      "        [ 4.4186e-01]], device='cuda:0', grad_fn=<AddmmBackward0>)\n"
     ]
    }
   ],
   "source": [
    "seed_everything(0)\n",
    "model.train()\n",
    "data = next(iter(val_loader))\n",
    "data = data.to(device)\n",
    "out = model(data.x, data.pe, data.edge_index, data.edge_attr,\n",
    "            data.batch)\n",
    "print(out)"
   ]
  },
  {
   "cell_type": "code",
   "execution_count": 16,
   "id": "15ab378c-1563-4177-8078-61b036aa9c6c",
   "metadata": {},
   "outputs": [],
   "source": [
    "# import matplotlib.pyplot as plt\n",
    "# import pandas as pd\n",
    "\n",
    "# import numpy as np\n",
    "# res_df = pd.read_csv('30_ep_res.csv')\n",
    "\n",
    "# WINDOW = 1\n",
    "# fig, ax = plt.subplots(1, figsize=(15,5))\n",
    "\n",
    "# for col in res_df.columns:\n",
    "#     plt.plot(res_df[col].clip(0,0.7).rolling(WINDOW, min_periods=1).mean(), label=col)\n",
    "\n",
    "# plt.legend()\n",
    "# plt.show()"
   ]
  },
  {
   "cell_type": "code",
   "execution_count": 119,
   "id": "15426d6e-d6a4-4b46-80c8-dae456caaa4f",
   "metadata": {},
   "outputs": [
    {
     "data": {
      "image/png": "[encoded data removed]",
      "text/plain": [
       "<Figure size 1500x500 with 1 Axes>"
      ]
     },
     "metadata": {},
     "output_type": "display_data"
    }
   ],
   "source": [
    "import matplotlib.pyplot as plt\n",
    "\n",
    "fig, ax = plt.subplots(1, figsize=(15,5))\n",
    "\n",
    "plt.plot(permute[:30], label='permute')\n",
    "plt.plot(ordering[:30], label='order')\n",
    "plt.plot(heuristic_degree[:30], label='heuristic_degree')\n",
    "\n",
    "plt.legend()\n",
    "plt.show()"
   ]
  },
  {
   "cell_type": "code",
   "execution_count": null,
   "id": "67d97587-f99a-46b9-9f7b-74d81d42fca0",
   "metadata": {},
   "outputs": [],
   "source": [
    "fffffffffff"
   ]
  },
  {
   "cell_type": "markdown",
   "id": "a0c5b0c6-64be-4a4b-9e3f-62a76355dce4",
   "metadata": {},
   "source": [
    "# Plotting"
   ]
  },
  {
   "cell_type": "code",
   "execution_count": null,
   "id": "4c05860c-e4cc-4e49-ad4c-e746a22ea8e0",
   "metadata": {},
   "outputs": [],
   "source": []
  },
  {
   "cell_type": "markdown",
   "id": "41bf4f39-8190-4b24-b391-b31b161eca7b",
   "metadata": {},
   "source": [
    "# Tests"
   ]
  },
  {
   "cell_type": "code",
   "execution_count": null,
   "id": "0bc68822-3415-4685-9e62-371dc919bd93",
   "metadata": {},
   "outputs": [],
   "source": [
    "ggggggggggg"
   ]
  },
  {
   "cell_type": "code",
   "execution_count": null,
   "id": "47643725-13bc-4e29-9bc5-0d748a10d951",
   "metadata": {},
   "outputs": [],
   "source": [
    "it = next(iter(train_loader))\n",
    "# h, mask = to_dense_batch(it.x, it.batch)\n",
    "# it.x.shape, h.shape, mask.shape"
   ]
  },
  {
   "cell_type": "code",
   "execution_count": null,
   "id": "1955eeda-6fc6-4f4f-8c97-b0643a9c3b6b",
   "metadata": {},
   "outputs": [],
   "source": [
    "deg.dtype"
   ]
  },
  {
   "cell_type": "code",
   "execution_count": null,
   "id": "d359e9b1-e3ba-4ff8-8ff6-3a17e7deb306",
   "metadata": {},
   "outputs": [],
   "source": [
    "it"
   ]
  },
  {
   "cell_type": "code",
   "execution_count": null,
   "id": "5f7447ec-f9ab-43de-8a39-f2707f4fb020",
   "metadata": {},
   "outputs": [],
   "source": [
    "it.edge_index[0]"
   ]
  },
  {
   "cell_type": "code",
   "execution_count": null,
   "id": "e281930c-5708-4cf9-866f-c1d2efde207c",
   "metadata": {},
   "outputs": [],
   "source": [
    "it.to(device)\n",
    "out = model(it.x, it.pe, it.edge_index, it.edge_attr,\n",
    "                    it.batch)"
   ]
  },
  {
   "cell_type": "code",
   "execution_count": null,
   "id": "85e47e6b-2721-4eeb-9c70-c8fc269cc4a9",
   "metadata": {},
   "outputs": [],
   "source": [
    "batch = torch.tensor([0,0,0,1,1,1,1])\n",
    "x = torch.tensor([0,1,2,3,4,5,6])\n",
    "batch.shape, x.shape"
   ]
  },
  {
   "cell_type": "code",
   "execution_count": null,
   "id": "ef569b66-a435-4f2a-96ad-f33177ca9435",
   "metadata": {},
   "outputs": [],
   "source": [
    "import torch\n",
    "\n",
    "def permute_within_batch(x, batch):\n",
    "    # Enumerate over unique batch indices\n",
    "    unique_batches = torch.unique(batch)\n",
    "    \n",
    "    # Initialize list to store permuted indices\n",
    "    permuted_indices = []\n",
    "\n",
    "    for batch_index in unique_batches:\n",
    "        # Extract indices for the current batch\n",
    "        indices_in_batch = (batch == batch_index).nonzero().squeeze()\n",
    "        \n",
    "        # Permute indices within the current batch\n",
    "        permuted_indices_in_batch = indices_in_batch[torch.randperm(len(indices_in_batch))]\n",
    "        \n",
    "        # Append permuted indices to the list\n",
    "        permuted_indices.append(permuted_indices_in_batch)\n",
    "\n",
    "    # Concatenate permuted indices into a single tensor\n",
    "    permuted_indices = torch.cat(permuted_indices)\n",
    "\n",
    "    return permuted_indices\n",
    "\n",
    "# Example usage\n",
    "batch = torch.tensor([0, 0, 0, 1, 1, 1, 1])\n",
    "x = torch.tensor([0, 10, 20, 30, 40, 50, 60])\n",
    "\n",
    "# Get permuted indices\n",
    "permuted_indices = permute_within_batch(x, batch)\n",
    "\n",
    "# Use permuted indices to get the permuted tensor\n",
    "permuted_x = x[permuted_indices]\n",
    "\n",
    "print(\"Original x:\", x)\n",
    "print(\"Permuted x:\", permuted_x)\n",
    "print(\"Permuted indices:\", permuted_indices)\n"
   ]
  },
  {
   "cell_type": "code",
   "execution_count": null,
   "id": "669db4fc-0bf5-49a9-a701-6280c793c74c",
   "metadata": {},
   "outputs": [],
   "source": []
  },
  {
   "cell_type": "code",
   "execution_count": null,
   "id": "eca35cc4-faaa-417d-abb0-8da383ecef2c",
   "metadata": {},
   "outputs": [],
   "source": [
    "mask[0].sum(), (it.batch==0).sum()"
   ]
  },
  {
   "cell_type": "code",
   "execution_count": null,
   "id": "5e624feb-987b-4cc7-b7a0-388d2b6f121e",
   "metadata": {},
   "outputs": [],
   "source": [
    "self_attn = Mamba(d_model=64, # Model dimension d_model\n",
    "                                d_state=16,  # SSM state expansion factor\n",
    "                                d_conv=4,    # Local convolution width\n",
    "                                expand=1,    # Block expansion factor\n",
    "                            )\n",
    "print(sum(p.numel() for p in self_attn.parameters() if p.requires_grad), sum(p.numel() for p in self_attn.parameters()))"
   ]
  },
  {
   "cell_type": "code",
   "execution_count": null,
   "id": "61d5c45a-6d97-4659-99d5-14c63cec9818",
   "metadata": {},
   "outputs": [],
   "source": [
    "self_attn = Mamba(d_model=64, # Model dimension d_model\n",
    "                                d_state=8,  # SSM state expansion factor\n",
    "                                d_conv=2,    # Local convolution width\n",
    "                                expand=1,    # Block expansion factor\n",
    "                            )\n",
    "print(sum(p.numel() for p in self_attn.parameters() if p.requires_grad), sum(p.numel() for p in self_attn.parameters()))"
   ]
  },
  {
   "cell_type": "code",
   "execution_count": null,
   "id": "f1359039-8fa5-4f01-a4c6-2171dc188300",
   "metadata": {},
   "outputs": [],
   "source": [
    "self_attn = Mamba(d_model=64, # Model dimension d_model\n",
    "                                d_state=16,  # SSM state expansion factor\n",
    "                                d_conv=8,    # Local convolution width\n",
    "                                expand=1,    # Block expansion factor\n",
    "                            )\n",
    "print(sum(p.numel() for p in self_attn.parameters() if p.requires_grad), sum(p.numel() for p in self_attn.parameters()))"
   ]
  },
  {
   "cell_type": "code",
   "execution_count": null,
   "id": "0bd4f3f9-2eef-4731-8ae0-a00e7fdaa6b6",
   "metadata": {},
   "outputs": [],
   "source": [
    "self_attn = torch.nn.MultiheadAttention(\n",
    "                64,\n",
    "                4,\n",
    "                dropout=0.5,\n",
    "                batch_first=True,\n",
    "            )\n",
    "print(sum(p.numel() for p in self_attn.parameters() if p.requires_grad), sum(p.numel() for p in self_attn.parameters()))"
   ]
  }
 ],
 "metadata": {
  "kernelspec": {
   "display_name": "L65",
   "language": "python",
   "name": "python3"
  },
  "language_info": {
   "codemirror_mode": {
    "name": "ipython",
    "version": 3
   },
   "file_extension": ".py",
   "mimetype": "text/x-python",
   "name": "python",
   "nbconvert_exporter": "python",
   "pygments_lexer": "ipython3",
   "version": "3.10.12"
  }
 },
 "nbformat": 4,
 "nbformat_minor": 5
}
