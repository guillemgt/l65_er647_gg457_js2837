{
 "cells": [
  {
   "cell_type": "code",
   "execution_count": null,
   "metadata": {},
   "outputs": [],
   "source": [
    "import pickle\n",
    "import numpy as np\n",
    "import matplotlib.pyplot as plt"
   ]
  },
  {
   "cell_type": "code",
   "execution_count": null,
   "metadata": {},
   "outputs": [],
   "source": [
    "data = pickle.load(open('val.pickle', 'rb'))"
   ]
  },
  {
   "cell_type": "code",
   "execution_count": null,
   "metadata": {},
   "outputs": [],
   "source": [
    "print(len(data), \"samples in the validation set\")"
   ]
  },
  {
   "cell_type": "code",
   "execution_count": null,
   "metadata": {},
   "outputs": [],
   "source": [
    "def plot_graph(node_coords, edges, x):\n",
    "    '''\n",
    "    Plots the graph with different colors for the different x, with lower values being moreblue and higher values more red\n",
    "    '''\n",
    "    x = (x - np.min(x)) / (np.max(x) - np.min(x))\n",
    "    for i in range(edges.shape[1]):\n",
    "        plt.plot([node_coords[edges[0,i],0], node_coords[edges[1,i],0]], [node_coords[edges[0,i],1], node_coords[edges[1,i],1]], 'k-')\n",
    "    for i in range(node_coords.shape[0]):\n",
    "        plt.plot(node_coords[i,0], node_coords[i,1], 'o', color=plt.cm.coolwarm(x[i]))\n",
    "    plt.show()\n",
    "\n",
    "def plot_sample(data, sample_index):\n",
    "    '''\n",
    "    Plots a sample of the dataset\n",
    "    '''\n",
    "    \n",
    "    sample = data[sample_index]\n",
    "    node_features = sample[0] # (N, 12+2): (node features)+(2D coordinates)\n",
    "    edge_features = sample[1] # (E, 1+1): (weight)+(length of boundary)\n",
    "    edges = sample[2] # (2, E)\n",
    "    node_labels = sample[3] # (N,)\n",
    "\n",
    "    node_coords = node_features[:,-2:]\n",
    "\n",
    "    plot_graph(node_coords, edges, node_labels)"
   ]
  },
  {
   "cell_type": "code",
   "execution_count": null,
   "metadata": {},
   "outputs": [],
   "source": [
    "plot_sample(data, 5)"
   ]
  }
 ],
 "metadata": {
  "kernelspec": {
   "display_name": "Python 3",
   "language": "python",
   "name": "python3"
  },
  "language_info": {
   "codemirror_mode": {
    "name": "ipython",
    "version": 3
   },
   "file_extension": ".py",
   "mimetype": "text/x-python",
   "name": "python",
   "nbconvert_exporter": "python",
   "pygments_lexer": "ipython3",
   "version": "3.11.0"
  }
 },
 "nbformat": 4,
 "nbformat_minor": 2
}
